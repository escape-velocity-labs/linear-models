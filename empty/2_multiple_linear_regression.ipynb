{
  "nbformat": 4,
  "nbformat_minor": 0,
  "metadata": {
    "colab": {
      "name": "2_multiple_linear_regression.ipynb",
      "provenance": [],
      "collapsed_sections": []
    },
    "kernelspec": {
      "name": "python3",
      "display_name": "Python 3"
    },
    "language_info": {
      "name": "python"
    }
  },
  "cells": [
    {
      "cell_type": "markdown",
      "source": [
        "# Multiple Linear Regression"
      ],
      "metadata": {
        "id": "yNlKZjR6u8a3"
      }
    },
    {
      "cell_type": "code",
      "source": [
        "import random\n",
        "import seaborn as sns\n",
        "import pandas as pd\n",
        "import numpy as np\n",
        "import matplotlib.pyplot as plt\n",
        "import sklearn.metrics as metrics\n",
        "\n",
        "from sklearn.datasets import make_regression\n",
        "from mpl_toolkits.mplot3d import Axes3D\n",
        "\n",
        "from statsmodels.stats.outliers_influence import variance_inflation_factor\n",
        "from statsmodels.tools.tools import add_constant\n",
        "\n",
        "# Make the notebook reproducible.\n",
        "seed = 42\n",
        "random.seed(seed)\n",
        "np.random.seed(seed=seed)"
      ],
      "metadata": {
        "id": "sK_dI48tHC5L"
      },
      "execution_count": null,
      "outputs": []
    },
    {
      "cell_type": "code",
      "source": [
        "#@title Dataset generation (keep hidden until later)\n",
        "\n",
        "X, y, coef = make_regression(\n",
        "    n_samples=100, \n",
        "    n_features=2, \n",
        "    n_informative=2, \n",
        "    noise=30.0, \n",
        "    bias=50.0, \n",
        "    shuffle=True, \n",
        "    coef=True, \n",
        "    random_state=seed)"
      ],
      "metadata": {
        "id": "aE6RMO7BHC7q",
        "cellView": "form"
      },
      "execution_count": null,
      "outputs": []
    },
    {
      "cell_type": "markdown",
      "source": [
        "Our model: \n",
        "\n",
        "$y \\sim \\mathcal{N}(\\beta_0 + \\beta_1 x_1 + \\beta_2 x_2, \\ \\sigma)$"
      ],
      "metadata": {
        "id": "PZdn_Ek5wEQj"
      }
    },
    {
      "cell_type": "code",
      "source": [
        ""
      ],
      "metadata": {
        "id": "lryGnSzlweHJ"
      },
      "execution_count": null,
      "outputs": []
    },
    {
      "cell_type": "code",
      "source": [
        ""
      ],
      "metadata": {
        "id": "PBpYGba90w24"
      },
      "execution_count": null,
      "outputs": []
    },
    {
      "cell_type": "markdown",
      "source": [
        "Show our dataset in a 3D scatterplot."
      ],
      "metadata": {
        "id": "ZiYXXEqE01o5"
      }
    },
    {
      "cell_type": "code",
      "source": [
        ""
      ],
      "metadata": {
        "id": "Ga_z7tnC9TKr"
      },
      "execution_count": null,
      "outputs": []
    },
    {
      "cell_type": "markdown",
      "source": [
        "Creating our multiple linear regression (MLR) model: \n",
        "\n",
        "$\\hat \\beta = (X^TX)^{-1}X^Ty$"
      ],
      "metadata": {
        "id": "DKClC-pRB5Lm"
      }
    },
    {
      "cell_type": "code",
      "source": [
        ""
      ],
      "metadata": {
        "id": "5q2WeRsg9TWi"
      },
      "execution_count": null,
      "outputs": []
    },
    {
      "cell_type": "code",
      "source": [
        ""
      ],
      "metadata": {
        "id": "dKkJP_SV9TZt"
      },
      "execution_count": null,
      "outputs": []
    },
    {
      "cell_type": "code",
      "source": [
        ""
      ],
      "metadata": {
        "id": "Z-mfw8C99Tc5"
      },
      "execution_count": null,
      "outputs": []
    },
    {
      "cell_type": "code",
      "source": [
        ""
      ],
      "metadata": {
        "id": "GcoXGT-bwAB9"
      },
      "execution_count": null,
      "outputs": []
    },
    {
      "cell_type": "markdown",
      "source": [
        "Plot the plane of best fit."
      ],
      "metadata": {
        "id": "ELYna5mM3jNz"
      }
    },
    {
      "cell_type": "code",
      "source": [
        ""
      ],
      "metadata": {
        "id": "tCbxX0uDVsCY"
      },
      "execution_count": null,
      "outputs": []
    },
    {
      "cell_type": "code",
      "source": [
        "#@title Dataset generation (keep hidden until later)\n",
        "\n",
        "X, y, coef = make_regression(\n",
        "    n_samples=100, \n",
        "    n_features=1, \n",
        "    n_informative=1, \n",
        "    noise=30.0, \n",
        "    bias=25.0, \n",
        "    shuffle=True, \n",
        "    coef=True, \n",
        "    random_state=seed)\n",
        "\n",
        "dummy = np.random.choice([0.0, 1.0], size=(100, 1))\n",
        "X = np.hstack((X, dummy))\n",
        "\n",
        "y[dummy.squeeze() == 1.0] += 100"
      ],
      "metadata": {
        "id": "D6gEePu6BBHL",
        "cellView": "form"
      },
      "execution_count": null,
      "outputs": []
    },
    {
      "cell_type": "markdown",
      "source": [
        "MLR with categorical variables: \n",
        "\n",
        "$y \\sim \\mathcal{N}(\\beta_0 + \\beta_1 x_1 + \\beta_2 d, \\ \\sigma)$ "
      ],
      "metadata": {
        "id": "a-mOq2qMlE3Z"
      }
    },
    {
      "cell_type": "code",
      "source": [
        ""
      ],
      "metadata": {
        "id": "w_UyvFKBlFUo"
      },
      "execution_count": null,
      "outputs": []
    },
    {
      "cell_type": "code",
      "source": [
        ""
      ],
      "metadata": {
        "id": "yxioGjU55pxu"
      },
      "execution_count": null,
      "outputs": []
    },
    {
      "cell_type": "code",
      "source": [
        ""
      ],
      "metadata": {
        "id": "Z8kNc2jXNfel"
      },
      "execution_count": null,
      "outputs": []
    },
    {
      "cell_type": "code",
      "source": [
        ""
      ],
      "metadata": {
        "id": "a3Mb9z6QqV-L"
      },
      "execution_count": null,
      "outputs": []
    },
    {
      "cell_type": "code",
      "source": [
        ""
      ],
      "metadata": {
        "id": "OLfTHUP04pZu"
      },
      "execution_count": null,
      "outputs": []
    },
    {
      "cell_type": "code",
      "source": [
        ""
      ],
      "metadata": {
        "id": "NAW2hImW4pcE"
      },
      "execution_count": null,
      "outputs": []
    },
    {
      "cell_type": "markdown",
      "source": [
        "Feature ranking and standardization."
      ],
      "metadata": {
        "id": "rRV9TPrYB5N9"
      }
    },
    {
      "cell_type": "code",
      "source": [
        "#@title Dataset generation (keep hidden until later)\n",
        "\n",
        "X, y, coef = make_regression(\n",
        "    n_samples=100, \n",
        "    n_features=4, \n",
        "    n_informative=4, \n",
        "    noise=30.0, \n",
        "    bias=30.0, \n",
        "    shuffle=True, \n",
        "    coef=True, \n",
        "    random_state=seed)\n",
        "\n",
        "x_mu = np.array([100.0, 10.0, 1.0, 0.1])\n",
        "x_sigma = np.array([50, 3.2, 0.4, 0.025])\n",
        "X = X * x_sigma + x_mu\n",
        "\n",
        "df = pd.DataFrame(X, columns=['x1', 'x2', 'x3', 'x4'])\n",
        "df['y'] = y"
      ],
      "metadata": {
        "id": "3ESYyOp49TCG",
        "cellView": "form"
      },
      "execution_count": null,
      "outputs": []
    },
    {
      "cell_type": "markdown",
      "source": [
        "MLR model with 4 numerical variables: \n",
        "\n",
        "$y \\sim \\mathcal{N}(\\beta_0 + \\beta_1 x_1 + \\beta_2 x_2 + \\beta_3 x_3 + \\beta_4 x_4,\\ \\sigma)$ "
      ],
      "metadata": {
        "id": "52DQyeOGJ1C0"
      }
    },
    {
      "cell_type": "code",
      "source": [
        ""
      ],
      "metadata": {
        "id": "QWqsjDjYK2_x"
      },
      "execution_count": null,
      "outputs": []
    },
    {
      "cell_type": "code",
      "source": [
        ""
      ],
      "metadata": {
        "id": "IXyjGMhXK3LT"
      },
      "execution_count": null,
      "outputs": []
    },
    {
      "cell_type": "code",
      "source": [
        ""
      ],
      "metadata": {
        "id": "MVIKpv2kKznH"
      },
      "execution_count": null,
      "outputs": []
    },
    {
      "cell_type": "markdown",
      "source": [
        "Show the correlations between variables."
      ],
      "metadata": {
        "id": "5Rd3k3htLEWm"
      }
    },
    {
      "cell_type": "code",
      "source": [
        ""
      ],
      "metadata": {
        "id": "I4Q1Wjd49TIE"
      },
      "execution_count": null,
      "outputs": []
    },
    {
      "cell_type": "markdown",
      "source": [
        "Create our model and rank the features by importance."
      ],
      "metadata": {
        "id": "94oQYzwHLIsv"
      }
    },
    {
      "cell_type": "code",
      "source": [
        ""
      ],
      "metadata": {
        "id": "VF5hlSvr9TjT"
      },
      "execution_count": null,
      "outputs": []
    },
    {
      "cell_type": "code",
      "source": [
        ""
      ],
      "metadata": {
        "id": "LCKEvx5UWVlP"
      },
      "execution_count": null,
      "outputs": []
    },
    {
      "cell_type": "code",
      "source": [
        ""
      ],
      "metadata": {
        "id": "OsWAyl7P9T2f"
      },
      "execution_count": null,
      "outputs": []
    },
    {
      "cell_type": "code",
      "source": [
        ""
      ],
      "metadata": {
        "id": "9fpS4ZzxKsiC"
      },
      "execution_count": null,
      "outputs": []
    },
    {
      "cell_type": "code",
      "source": [
        ""
      ],
      "metadata": {
        "id": "884MFQDdKskg"
      },
      "execution_count": null,
      "outputs": []
    },
    {
      "cell_type": "code",
      "source": [
        ""
      ],
      "metadata": {
        "id": "U3xapG5XUl9s"
      },
      "execution_count": null,
      "outputs": []
    },
    {
      "cell_type": "code",
      "source": [
        ""
      ],
      "metadata": {
        "id": "24SVUKeRUhQS"
      },
      "execution_count": null,
      "outputs": []
    },
    {
      "cell_type": "code",
      "source": [
        ""
      ],
      "metadata": {
        "id": "qX3cgnQwKsnJ"
      },
      "execution_count": null,
      "outputs": []
    },
    {
      "cell_type": "code",
      "source": [
        ""
      ],
      "metadata": {
        "id": "Vvmt8PhDKspr"
      },
      "execution_count": null,
      "outputs": []
    },
    {
      "cell_type": "markdown",
      "source": [
        "Diagnosing multicollinearity in our MLR models"
      ],
      "metadata": {
        "id": "GXtskxWBB5QQ"
      }
    },
    {
      "cell_type": "code",
      "source": [
        "#@title Dataset generation (keep hidden until later)\n",
        "\n",
        "X, y, coef = make_regression(\n",
        "    n_samples=1000, \n",
        "    n_features=2, \n",
        "    n_informative=2, \n",
        "    noise=20.0, \n",
        "    bias=50.0, \n",
        "    shuffle=True, \n",
        "    coef=True, \n",
        "    random_state=seed)\n",
        "\n",
        "x3 = X[:, 0] + X[:, 1] + np.random.normal(0, 0.05, (1000,))\n",
        "X = np.hstack((X, x3[..., np.newaxis]))\n",
        "\n",
        "df = pd.DataFrame(X, columns=['x1', 'x2', 'x3'])\n",
        "df['y'] = y"
      ],
      "metadata": {
        "id": "HuMvvkoXW6yB",
        "cellView": "form"
      },
      "execution_count": null,
      "outputs": []
    },
    {
      "cell_type": "markdown",
      "source": [
        "MLR model with 4 numerical variables: \n",
        "\n",
        "$y \\sim \\mathcal{N}(\\beta_0 + \\beta_1 x_1 + \\beta_2 x_2 + \\beta_3 x_3,\\ \\sigma)$\n",
        "<br><br>\n",
        "$x_3$ presents multicollinearity of the form:\n",
        "\n",
        "$x_{3i} = \\alpha_0 + \\alpha_1 x_{1i} + \\alpha_2 x_{2i} + \\delta_i$"
      ],
      "metadata": {
        "id": "5enUI9rXO3sg"
      }
    },
    {
      "cell_type": "code",
      "source": [
        ""
      ],
      "metadata": {
        "id": "ObcEFd6d9UBo"
      },
      "execution_count": null,
      "outputs": []
    },
    {
      "cell_type": "markdown",
      "source": [
        "Compute the $\\beta$ parameters for 10 subsets of our data separately."
      ],
      "metadata": {
        "id": "eGV9c0jPS81L"
      }
    },
    {
      "cell_type": "code",
      "source": [
        ""
      ],
      "metadata": {
        "id": "6np95wjoQ73H"
      },
      "execution_count": null,
      "outputs": []
    },
    {
      "cell_type": "code",
      "source": [
        ""
      ],
      "metadata": {
        "id": "7flZC5iiUKHm"
      },
      "execution_count": null,
      "outputs": []
    },
    {
      "cell_type": "code",
      "source": [
        ""
      ],
      "metadata": {
        "id": "b7W_wW2kVuSf"
      },
      "execution_count": null,
      "outputs": []
    },
    {
      "cell_type": "code",
      "source": [
        ""
      ],
      "metadata": {
        "id": "8ltvTo5bVuU9"
      },
      "execution_count": null,
      "outputs": []
    },
    {
      "cell_type": "code",
      "source": [
        ""
      ],
      "metadata": {
        "id": "jkjYJdHaYJ1d"
      },
      "execution_count": null,
      "outputs": []
    },
    {
      "cell_type": "code",
      "source": [
        ""
      ],
      "metadata": {
        "id": "S3LcGSyE9UJz"
      },
      "execution_count": null,
      "outputs": []
    },
    {
      "cell_type": "code",
      "source": [
        ""
      ],
      "metadata": {
        "id": "qboR7ncokau7"
      },
      "execution_count": null,
      "outputs": []
    },
    {
      "cell_type": "markdown",
      "source": [
        "Treating multicollinearity in our MLR models"
      ],
      "metadata": {
        "id": "d0hoAGsVB5Sp"
      }
    },
    {
      "cell_type": "code",
      "source": [
        ""
      ],
      "metadata": {
        "id": "PcCl5vwEkaxY"
      },
      "execution_count": null,
      "outputs": []
    },
    {
      "cell_type": "code",
      "source": [
        ""
      ],
      "metadata": {
        "id": "30iJxE30qhVS"
      },
      "execution_count": null,
      "outputs": []
    },
    {
      "cell_type": "code",
      "source": [
        ""
      ],
      "metadata": {
        "id": "8-8Sww19qhbv"
      },
      "execution_count": null,
      "outputs": []
    },
    {
      "cell_type": "markdown",
      "source": [
        "Compute the $\\beta$ parameters for 10 subsets of our data separately."
      ],
      "metadata": {
        "id": "0wtlsYiyaCdR"
      }
    },
    {
      "cell_type": "code",
      "source": [
        ""
      ],
      "metadata": {
        "id": "B3UYLOxLboCS"
      },
      "execution_count": null,
      "outputs": []
    },
    {
      "cell_type": "code",
      "source": [
        ""
      ],
      "metadata": {
        "id": "Fy8YvQPUboCS"
      },
      "execution_count": null,
      "outputs": []
    },
    {
      "cell_type": "code",
      "source": [
        ""
      ],
      "metadata": {
        "id": "gNzWGsdxboCS"
      },
      "execution_count": null,
      "outputs": []
    },
    {
      "cell_type": "code",
      "source": [
        ""
      ],
      "metadata": {
        "id": "H-mosx-Ms6r3"
      },
      "execution_count": null,
      "outputs": []
    }
  ]
}