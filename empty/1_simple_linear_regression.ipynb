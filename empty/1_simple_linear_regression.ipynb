{
  "nbformat": 4,
  "nbformat_minor": 0,
  "metadata": {
    "colab": {
      "name": "1_simple_linear_regression.ipynb",
      "provenance": [],
      "collapsed_sections": []
    },
    "kernelspec": {
      "name": "python3",
      "display_name": "Python 3"
    },
    "language_info": {
      "name": "python"
    }
  },
  "cells": [
    {
      "cell_type": "markdown",
      "source": [
        "# Simple Linear Regression"
      ],
      "metadata": {
        "id": "rwnm9KHfodxE"
      }
    },
    {
      "cell_type": "code",
      "source": [
        "import warnings\n",
        "warnings.filterwarnings(\"ignore\")\n",
        "\n",
        "import numpy as np\n",
        "import seaborn as sns\n",
        "import matplotlib.pyplot as plt\n",
        "\n",
        "import scipy.stats as stats\n",
        "\n",
        "import sklearn.metrics as metrics\n",
        "\n",
        "from statsmodels.graphics.gofplots import qqplot\n",
        "\n",
        "np.random.seed(42)"
      ],
      "metadata": {
        "id": "sW-rF42QowbB"
      },
      "execution_count": null,
      "outputs": []
    },
    {
      "cell_type": "code",
      "execution_count": null,
      "metadata": {
        "id": "w4QQVb6dnmYm",
        "cellView": "form"
      },
      "outputs": [],
      "source": [
        "#@title Dataset generation (keep hidden until later)\n",
        "beta_0 = 40_000\n",
        "beta_1 = 2_500\n",
        "sigma = 6_000\n",
        "x = np.random.randint(low=0, high=20, size=(100))\n",
        "noise = np.random.randn(100) * sigma\n",
        "y = beta_0 + beta_1 * x + noise\n",
        "y = np.round(y, decimals=2)"
      ]
    },
    {
      "cell_type": "code",
      "source": [
        ""
      ],
      "metadata": {
        "id": "rp9qinF873-F"
      },
      "execution_count": null,
      "outputs": []
    },
    {
      "cell_type": "markdown",
      "source": [
        "Visualize the relationship between x (years of experience) and y (salary)."
      ],
      "metadata": {
        "id": "dhW8vg5x9rYZ"
      }
    },
    {
      "cell_type": "code",
      "source": [
        ""
      ],
      "metadata": {
        "id": "H6kqCrREo6AT"
      },
      "execution_count": null,
      "outputs": []
    },
    {
      "cell_type": "markdown",
      "source": [
        "Create the regression model (Find $\\hat \\beta_0$, $\\hat \\beta_1$ and $\\hat \\sigma$)."
      ],
      "metadata": {
        "id": "DBr1z9ZW95Eg"
      }
    },
    {
      "cell_type": "code",
      "source": [
        ""
      ],
      "metadata": {
        "id": "ePBd-pIpwK1U"
      },
      "execution_count": null,
      "outputs": []
    },
    {
      "cell_type": "markdown",
      "source": [
        "$\\hat \\beta_1 = \\frac {s_{x,y}} {s^2_x}$"
      ],
      "metadata": {
        "id": "15hmYNco-DUm"
      }
    },
    {
      "cell_type": "code",
      "source": [
        ""
      ],
      "metadata": {
        "id": "Pj1eUcpFvb8M"
      },
      "execution_count": null,
      "outputs": []
    },
    {
      "cell_type": "markdown",
      "source": [
        "$\\hat \\beta_0 = \\overline y - \\hat \\beta_1 \\overline x$"
      ],
      "metadata": {
        "id": "HCd9BkS8-D52"
      }
    },
    {
      "cell_type": "code",
      "source": [
        ""
      ],
      "metadata": {
        "id": "MdJeDwIep6cg"
      },
      "execution_count": null,
      "outputs": []
    },
    {
      "cell_type": "markdown",
      "source": [
        "$\\hat \\sigma = \\sqrt {\\frac 1 N \\sum^N_{n=1} (y_n - \\hat \\beta_0 - \\hat \\beta_1 x)^2}$"
      ],
      "metadata": {
        "id": "NDQcAYGB-EnM"
      }
    },
    {
      "cell_type": "code",
      "source": [
        ""
      ],
      "metadata": {
        "id": "NWXSfmaSp6e-"
      },
      "execution_count": null,
      "outputs": []
    },
    {
      "cell_type": "code",
      "source": [
        ""
      ],
      "metadata": {
        "id": "gTFMGgLYp6hb"
      },
      "execution_count": null,
      "outputs": []
    },
    {
      "cell_type": "markdown",
      "source": [
        "Plot the resulting model."
      ],
      "metadata": {
        "id": "HU9TlPAGB1Wc"
      }
    },
    {
      "cell_type": "code",
      "source": [
        ""
      ],
      "metadata": {
        "id": "bf91h6RMohTz"
      },
      "execution_count": null,
      "outputs": []
    },
    {
      "cell_type": "markdown",
      "source": [
        "Evaluate the goodness of fit."
      ],
      "metadata": {
        "id": "AufOqZ0pB9yl"
      }
    },
    {
      "cell_type": "markdown",
      "source": [
        "$R^2$ score:"
      ],
      "metadata": {
        "id": "pS33YRWwJkxQ"
      }
    },
    {
      "cell_type": "code",
      "source": [
        ""
      ],
      "metadata": {
        "id": "vyBNJfSmJ6AC"
      },
      "execution_count": null,
      "outputs": []
    },
    {
      "cell_type": "markdown",
      "source": [
        "Mean squared error:"
      ],
      "metadata": {
        "id": "sTZYH7UFJk7f"
      }
    },
    {
      "cell_type": "code",
      "source": [
        ""
      ],
      "metadata": {
        "id": "GJPRPtTiKBVp"
      },
      "execution_count": null,
      "outputs": []
    },
    {
      "cell_type": "markdown",
      "source": [
        "Root mean squared error:"
      ],
      "metadata": {
        "id": "OO244QTGJk-j"
      }
    },
    {
      "cell_type": "code",
      "source": [
        ""
      ],
      "metadata": {
        "id": "ayxW5WOBohlZ"
      },
      "execution_count": null,
      "outputs": []
    },
    {
      "cell_type": "markdown",
      "source": [
        "Residuals:\n",
        "\n",
        "$\\epsilon = y - y_{pred} = y - \\hat \\beta_0 + \\hat \\beta_1 x$"
      ],
      "metadata": {
        "id": "81sicj6wKVDB"
      }
    },
    {
      "cell_type": "code",
      "source": [
        ""
      ],
      "metadata": {
        "id": "1_906FCBohWO"
      },
      "execution_count": null,
      "outputs": []
    },
    {
      "cell_type": "markdown",
      "source": [
        "Residual mean $\\mu_{\\epsilon}$ and standard deviation $\\sigma_{\\epsilon}$:"
      ],
      "metadata": {
        "id": "GM57z0EdKotg"
      }
    },
    {
      "cell_type": "code",
      "source": [
        ""
      ],
      "metadata": {
        "id": "xg2oMBrjYC-s"
      },
      "execution_count": null,
      "outputs": []
    },
    {
      "cell_type": "code",
      "source": [
        ""
      ],
      "metadata": {
        "id": "ypUkwafsohYZ"
      },
      "execution_count": null,
      "outputs": []
    },
    {
      "cell_type": "code",
      "source": [
        ""
      ],
      "metadata": {
        "id": "gJpQApZvohoG"
      },
      "execution_count": null,
      "outputs": []
    },
    {
      "cell_type": "code",
      "source": [
        ""
      ],
      "metadata": {
        "id": "51UK8FRKohtm"
      },
      "execution_count": null,
      "outputs": []
    },
    {
      "cell_type": "code",
      "source": [
        ""
      ],
      "metadata": {
        "id": "RedT2SxHohwQ"
      },
      "execution_count": null,
      "outputs": []
    },
    {
      "cell_type": "code",
      "source": [
        ""
      ],
      "metadata": {
        "id": "JJBOEeLAoh75"
      },
      "execution_count": null,
      "outputs": []
    }
  ]
}