{
  "nbformat": 4,
  "nbformat_minor": 0,
  "metadata": {
    "colab": {
      "provenance": [],
      "collapsed_sections": []
    },
    "kernelspec": {
      "name": "python3",
      "display_name": "Python 3"
    },
    "language_info": {
      "name": "python"
    }
  },
  "cells": [
    {
      "cell_type": "markdown",
      "source": [
        "# Ridge regression"
      ],
      "metadata": {
        "id": "Bl-ax1Wk0Xkf"
      }
    },
    {
      "cell_type": "code",
      "source": [
        "import numpy as np\n",
        "import pandas as pd\n",
        "import seaborn as sns\n",
        "import matplotlib.pyplot as plt\n",
        "import plotly.express as px\n",
        "import plotly.graph_objects as go\n",
        "from plotly.subplots import make_subplots\n",
        "\n",
        "from sklearn.base import BaseEstimator\n",
        "from sklearn.datasets import make_regression\n",
        "from sklearn.linear_model import LinearRegression\n",
        "from sklearn.preprocessing import PolynomialFeatures\n",
        "from sklearn.metrics import mean_squared_error\n",
        "\n",
        "random_seed = 42"
      ],
      "metadata": {
        "id": "R6Rqx4YGNyrC"
      },
      "execution_count": null,
      "outputs": []
    },
    {
      "cell_type": "markdown",
      "source": [
        "Multicollinearity."
      ],
      "metadata": {
        "id": "XvPiOGijxUxR"
      }
    },
    {
      "cell_type": "code",
      "source": [
        "#@title\n",
        "X, y = make_regression(n_samples=100, n_features=1, noise=3, random_state=random_seed)\n",
        "X = X.repeat(2, axis=1)"
      ],
      "metadata": {
        "id": "_dZmhubfxVBz",
        "cellView": "form"
      },
      "execution_count": null,
      "outputs": []
    },
    {
      "cell_type": "code",
      "source": [],
      "metadata": {
        "id": "7SIPwyTTAPPo"
      },
      "execution_count": null,
      "outputs": []
    },
    {
      "cell_type": "markdown",
      "source": [
        "Ridge regression: $\\hat \\beta_R = V(\\Sigma^2 + \\lambda)^{-1}\\Sigma U^T y$"
      ],
      "metadata": {
        "id": "-SM2V3Jo0jxx"
      }
    },
    {
      "cell_type": "code",
      "source": [],
      "metadata": {
        "id": "pNz6GSVR2jDJ"
      },
      "execution_count": null,
      "outputs": []
    },
    {
      "cell_type": "code",
      "source": [],
      "metadata": {
        "id": "DiqT1os8xXlC"
      },
      "execution_count": null,
      "outputs": []
    },
    {
      "cell_type": "markdown",
      "source": [
        "Overfitting."
      ],
      "metadata": {
        "id": "7TES6Eh60gqB"
      }
    },
    {
      "cell_type": "code",
      "source": [
        "#@title\n",
        "X, y = make_regression(n_samples=20, n_features=1, \n",
        "                       noise=20, random_state=random_seed)\n",
        "y_outlier = y.copy()\n",
        "y_outlier[X.argmax()] += 200"
      ],
      "metadata": {
        "id": "pZ_OBu2X0kQP",
        "cellView": "form"
      },
      "execution_count": null,
      "outputs": []
    },
    {
      "cell_type": "code",
      "source": [],
      "metadata": {
        "id": "3kJ_O8XWdxGS"
      },
      "execution_count": null,
      "outputs": []
    },
    {
      "cell_type": "markdown",
      "source": [
        "Reduce overfitting in polynomial regression."
      ],
      "metadata": {
        "id": "ZBQUvLbk--pq"
      }
    },
    {
      "cell_type": "code",
      "source": [
        "#@title\n",
        "X, _ = make_regression(n_samples=20, n_features=1, random_state=random_seed)\n",
        "y = -1 * X ** 3 + 5 * X ** 2 + X + 5 * np.random.rand(*X.shape)"
      ],
      "metadata": {
        "id": "GStV3gaxdxJD",
        "cellView": "form"
      },
      "execution_count": null,
      "outputs": []
    },
    {
      "cell_type": "code",
      "source": [],
      "metadata": {
        "id": "Bqd8ex-z_Dc7"
      },
      "execution_count": null,
      "outputs": []
    },
    {
      "cell_type": "markdown",
      "source": [
        "Why is it called Ridge regression?"
      ],
      "metadata": {
        "id": "fQqxcOxvZJ23"
      }
    },
    {
      "cell_type": "code",
      "source": [
        "#@title\n",
        "X, _ = make_regression(n_samples=1000, n_features=1, noise=3, random_state=random_seed)\n",
        "X = X.repeat(2, axis=1) + 0.01 * np.random.randn(1000, 2)\n",
        "\n",
        "y = 3 * X[:, 0] + 3 * X[:, 1]\n",
        "y = y[:, np.newaxis]\n",
        "\n",
        "b = np.linspace((2, 2), (4, 4), 100)\n",
        "bb1, bb2 = np.meshgrid(b[:, 0], b[:, 1])\n",
        "bb = np.stack((bb1, bb2))\n",
        "bb = bb.reshape(2, -1)\n",
        "mse = np.mean((y - X @ bb) ** 2, axis=0)\n",
        "mse = mse.reshape(100, 100)\n",
        "\n",
        "fig = make_subplots(rows=1, cols=2, specs=[[{'type': 'surface'}, {'type': 'surface'}]])\n",
        "\n",
        "fig.add_trace(go.Surface(x=bb1, y=bb2, z=mse), row=1, col=1)\n",
        "\n",
        "b = np.linspace((-5, -5), (10, 5), 100)\n",
        "bb1, bb2 = np.meshgrid(b[:, 0], b[:, 1])\n",
        "bb = np.stack((bb1, bb2))\n",
        "bb = bb.reshape(2, -1)\n",
        "mse = np.mean((y - X @ bb) ** 2, axis=0)\n",
        "mse = mse.reshape(100, 100) + 1 * bb1.T @ bb2\n",
        "\n",
        "fig.add_trace(go.Surface(x=bb1, y=bb2, z=mse), row=1, col=2)\n",
        "\n",
        "fig.update_traces(showscale=False)\n",
        "fig.update_layout(width=1200, title=\"OLS vs Ridge\", title_x=0.5)\n",
        "\n",
        "fig.update_layout(scene=dict(xaxis_title='b1', yaxis_title='b2', zaxis_title='MSE'))\n",
        "\n",
        "fig.show()"
      ],
      "metadata": {
        "cellView": "form",
        "id": "01_gqGUzZUvf"
      },
      "execution_count": null,
      "outputs": []
    },
    {
      "cell_type": "code",
      "source": [],
      "metadata": {
        "id": "2i5HjEQKohQN"
      },
      "execution_count": null,
      "outputs": []
    }
  ]
}