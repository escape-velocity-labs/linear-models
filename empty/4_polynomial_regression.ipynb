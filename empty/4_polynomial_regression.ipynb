{
  "nbformat": 4,
  "nbformat_minor": 0,
  "metadata": {
    "colab": {
      "provenance": [],
      "collapsed_sections": []
    },
    "kernelspec": {
      "name": "python3",
      "display_name": "Python 3"
    },
    "language_info": {
      "name": "python"
    }
  },
  "cells": [
    {
      "cell_type": "markdown",
      "source": [
        "# Polynomial regression"
      ],
      "metadata": {
        "id": "SX-TZg6Hxees"
      }
    },
    {
      "cell_type": "code",
      "execution_count": null,
      "metadata": {
        "id": "vo_LuaAHxbQg"
      },
      "outputs": [],
      "source": [
        "import numpy as np\n",
        "import seaborn as sns\n",
        "import matplotlib.pyplot as plt\n",
        "\n",
        "from sklearn.datasets import make_regression\n",
        "from sklearn.preprocessing import PolynomialFeatures\n",
        "from sklearn.linear_model import LinearRegression\n",
        "\n",
        "from statsmodels.stats.outliers_influence import variance_inflation_factor\n",
        "\n",
        "random_seed = 42"
      ]
    },
    {
      "cell_type": "markdown",
      "source": [
        "Dataset generation (X, y)."
      ],
      "metadata": {
        "id": "9fZwx_hsmJ75"
      }
    },
    {
      "cell_type": "code",
      "source": [
        "#@title\n",
        "np.random.seed(seed=random_seed)\n",
        "\n",
        "X, y, coef = make_regression(n_samples=100, n_features=1, \n",
        "                             coef=True, random_state=random_seed)\n",
        "\n",
        "y = 3 * X[:, 0] ** 2 - 2 * X[:, 0]\n",
        "y = y + np.random.rand(y.size) * 5"
      ],
      "metadata": {
        "id": "eK9gNTeYzo4f",
        "cellView": "form"
      },
      "execution_count": null,
      "outputs": []
    },
    {
      "cell_type": "markdown",
      "source": [
        "Data that implies curvature."
      ],
      "metadata": {
        "id": "R3wWyiJplnQZ"
      }
    },
    {
      "cell_type": "code",
      "source": [],
      "metadata": {
        "id": "3jaD_Vwp08Dd"
      },
      "execution_count": null,
      "outputs": []
    },
    {
      "cell_type": "code",
      "source": [],
      "metadata": {
        "id": "NUxPg9wS28aw"
      },
      "execution_count": null,
      "outputs": []
    },
    {
      "cell_type": "code",
      "source": [],
      "metadata": {
        "id": "_QIBHcbU3DyF"
      },
      "execution_count": null,
      "outputs": []
    },
    {
      "cell_type": "markdown",
      "source": [
        "Polynomial regression model: $\\ \\ \\mathbb{E}[y] = \\beta_0 + \\beta_1 x + \\beta_2 x^2$"
      ],
      "metadata": {
        "id": "1GGlEgPTxehh"
      }
    },
    {
      "cell_type": "code",
      "source": [],
      "metadata": {
        "id": "kV3g36ZHzo6h"
      },
      "execution_count": null,
      "outputs": []
    },
    {
      "cell_type": "code",
      "source": [],
      "metadata": {
        "id": "DC4xBHWQ0zSk"
      },
      "execution_count": null,
      "outputs": []
    },
    {
      "cell_type": "code",
      "source": [],
      "metadata": {
        "id": "WyjHL69o0zUm"
      },
      "execution_count": null,
      "outputs": []
    },
    {
      "cell_type": "code",
      "source": [],
      "metadata": {
        "id": "yURZY2UJ0zW9"
      },
      "execution_count": null,
      "outputs": []
    },
    {
      "cell_type": "markdown",
      "source": [
        "Feature interactions."
      ],
      "metadata": {
        "id": "Vih6ZodSxej3"
      }
    },
    {
      "cell_type": "code",
      "source": [
        "#@title\n",
        "np.random.seed(seed=random_seed)\n",
        "\n",
        "X, y, coef = make_regression(n_samples=100, n_features=2, \n",
        "                             bias=100, coef=True, random_state=random_seed)\n",
        "\n",
        "y = X[:, 0] + X[:, 1] + 10 * X[:, 0] * X[:, 1]\n",
        "y = y + np.random.rand(y.size)"
      ],
      "metadata": {
        "id": "PeFKnMoB00C_",
        "cellView": "form"
      },
      "execution_count": null,
      "outputs": []
    },
    {
      "cell_type": "code",
      "source": [],
      "metadata": {
        "id": "uIBSS-I600FT"
      },
      "execution_count": null,
      "outputs": []
    },
    {
      "cell_type": "code",
      "source": [],
      "metadata": {
        "id": "PkOkvYfl00H9"
      },
      "execution_count": null,
      "outputs": []
    },
    {
      "cell_type": "code",
      "source": [],
      "metadata": {
        "id": "juq74VqXtfHI"
      },
      "execution_count": null,
      "outputs": []
    },
    {
      "cell_type": "code",
      "source": [],
      "metadata": {
        "id": "b0Gqo2NCtfJ2"
      },
      "execution_count": null,
      "outputs": []
    },
    {
      "cell_type": "code",
      "source": [],
      "metadata": {
        "id": "skiRXrgV00KR"
      },
      "execution_count": null,
      "outputs": []
    },
    {
      "cell_type": "code",
      "source": [],
      "metadata": {
        "id": "EYZ1PWSb00MW"
      },
      "execution_count": null,
      "outputs": []
    },
    {
      "cell_type": "code",
      "source": [],
      "metadata": {
        "id": "dgiOiczSP7qz"
      },
      "execution_count": null,
      "outputs": []
    },
    {
      "cell_type": "code",
      "source": [],
      "metadata": {
        "id": "T0ax1qmgP7tH"
      },
      "execution_count": null,
      "outputs": []
    },
    {
      "cell_type": "markdown",
      "source": [
        "Overfitting"
      ],
      "metadata": {
        "id": "dikciYCcxeme"
      }
    },
    {
      "cell_type": "code",
      "source": [
        "#@title\n",
        "np.random.seed(seed=42)\n",
        "\n",
        "X, y, coef = make_regression(n_samples=20, n_features=1, \n",
        "                             bias=100, coef=True, random_state=random_seed)\n",
        "X = X / 2\n",
        "y = 2 * X[:, 0] ** 3 - X[:, 0] ** 2 - X[:, 0] + 20\n",
        "y = y + np.random.rand(y.size)"
      ],
      "metadata": {
        "id": "aJrYEYl300yH",
        "cellView": "form"
      },
      "execution_count": null,
      "outputs": []
    },
    {
      "cell_type": "code",
      "source": [],
      "metadata": {
        "id": "5Xn26Zke000t"
      },
      "execution_count": null,
      "outputs": []
    },
    {
      "cell_type": "code",
      "source": [],
      "metadata": {
        "id": "3mffS52sXSV0"
      },
      "execution_count": null,
      "outputs": []
    },
    {
      "cell_type": "markdown",
      "source": [
        "Generate new sample"
      ],
      "metadata": {
        "id": "2WMwLCFF42QZ"
      }
    },
    {
      "cell_type": "code",
      "source": [
        "#@title\n",
        "np.random.seed(seed=random_seed)\n",
        "\n",
        "X, y, coef = make_regression(n_samples=20, n_features=1, \n",
        "                             bias=100, coef=True, random_state=random_seed+1)\n",
        "X = X / 2\n",
        "y = 2 * X[:, 0] ** 3 - X[:, 0] ** 2 - X[:, 0] + 20\n",
        "y = y + np.random.rand(y.size)"
      ],
      "metadata": {
        "cellView": "form",
        "id": "-GfTJLYY41ra"
      },
      "execution_count": null,
      "outputs": []
    },
    {
      "cell_type": "code",
      "source": [],
      "metadata": {
        "id": "NPkKcBif002y"
      },
      "execution_count": null,
      "outputs": []
    },
    {
      "cell_type": "markdown",
      "source": [
        "Structural multicolinearity"
      ],
      "metadata": {
        "id": "08lQ_Mplxeo1"
      }
    },
    {
      "cell_type": "code",
      "source": [
        "#@title\n",
        "np.random.seed(seed=random_seed)\n",
        "\n",
        "X, y, coef = make_regression(n_samples=20, n_features=1, \n",
        "                             bias=100, coef=True, random_state=random_seed)\n",
        "\n",
        "X = X * 0.2 + 5\n",
        "y = - X[:, 0] ** 3 - 3 * X[:, 0] ** 2 - 2 * X[:, 0]\n",
        "y = y + np.random.rand(y.size) * 50"
      ],
      "metadata": {
        "id": "ULgLLBiP4B56",
        "cellView": "form"
      },
      "execution_count": null,
      "outputs": []
    },
    {
      "cell_type": "code",
      "source": [],
      "metadata": {
        "id": "j1v0zVfH2Itd"
      },
      "execution_count": null,
      "outputs": []
    },
    {
      "cell_type": "code",
      "source": [],
      "metadata": {
        "id": "f29tpWvF8J2J"
      },
      "execution_count": null,
      "outputs": []
    },
    {
      "cell_type": "code",
      "source": [],
      "metadata": {
        "id": "TGOeap3Z01lJ"
      },
      "execution_count": null,
      "outputs": []
    },
    {
      "cell_type": "code",
      "source": [],
      "metadata": {
        "id": "i-KyuR411YE8"
      },
      "execution_count": null,
      "outputs": []
    },
    {
      "cell_type": "code",
      "source": [],
      "metadata": {
        "id": "A9BCNmMz1YHQ"
      },
      "execution_count": null,
      "outputs": []
    },
    {
      "cell_type": "code",
      "source": [],
      "metadata": {
        "id": "-VqH0BmY01iT"
      },
      "execution_count": null,
      "outputs": []
    },
    {
      "cell_type": "code",
      "source": [],
      "metadata": {
        "id": "Fvgom6cZQv4S"
      },
      "execution_count": null,
      "outputs": []
    },
    {
      "cell_type": "markdown",
      "source": [
        "Fitting the centered data."
      ],
      "metadata": {
        "id": "f05_djCi8T3X"
      }
    },
    {
      "cell_type": "code",
      "source": [],
      "metadata": {
        "id": "B66fNmbo01nw"
      },
      "execution_count": null,
      "outputs": []
    },
    {
      "cell_type": "code",
      "source": [],
      "metadata": {
        "id": "3bLWdOEz01qF"
      },
      "execution_count": null,
      "outputs": []
    },
    {
      "cell_type": "markdown",
      "source": [
        "$\\beta_2 = \\beta^*_2$\n",
        "\n",
        "$\\beta_1 = \\beta^*_1 - 2\\beta^*_2 \\overline x$\n",
        "\n",
        "$\\beta_0 = \\beta^*_0 - \\beta^*_1 \\overline x + \\beta^*_2 \\overline x^{\\ 2}$"
      ],
      "metadata": {
        "id": "5rfuS13hRJfl"
      }
    },
    {
      "cell_type": "code",
      "source": [],
      "metadata": {
        "id": "JLsb34-Y8UAv"
      },
      "execution_count": null,
      "outputs": []
    },
    {
      "cell_type": "code",
      "source": [],
      "metadata": {
        "id": "9DcmrGCl8UDD"
      },
      "execution_count": null,
      "outputs": []
    },
    {
      "cell_type": "code",
      "source": [],
      "metadata": {
        "id": "EZL68V3SShw_"
      },
      "execution_count": null,
      "outputs": []
    }
  ]
}