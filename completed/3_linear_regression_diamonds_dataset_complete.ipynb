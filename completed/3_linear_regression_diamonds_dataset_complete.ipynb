{
  "nbformat": 4,
  "nbformat_minor": 0,
  "metadata": {
    "colab": {
      "name": "3_linear_regression_diamonds_dataset.ipynb",
      "provenance": [],
      "collapsed_sections": []
    },
    "kernelspec": {
      "name": "python3",
      "display_name": "Python 3"
    },
    "language_info": {
      "name": "python"
    }
  },
  "cells": [
    {
      "cell_type": "markdown",
      "source": [
        "# Modelling the price of diamonds"
      ],
      "metadata": {
        "id": "7IMLE2xDW6Md"
      }
    },
    {
      "cell_type": "code",
      "execution_count": null,
      "metadata": {
        "id": "tbIZvWS_WQNc"
      },
      "outputs": [],
      "source": [
        "import pandas as pd\n",
        "import numpy as np\n",
        "import seaborn as sns\n",
        "import matplotlib.pyplot as plt\n",
        "\n",
        "from statsmodels.graphics.gofplots import qqplot\n",
        "\n",
        "from sklearn.model_selection import train_test_split\n",
        "from sklearn.feature_selection import mutual_info_regression\n",
        "\n",
        "from sklearn.pipeline import make_pipeline\n",
        "from sklearn.compose import ColumnTransformer, TransformedTargetRegressor\n",
        "\n",
        "from sklearn.preprocessing import OneHotEncoder, FunctionTransformer\n",
        "from sklearn.linear_model import LinearRegression\n",
        "\n",
        "from sklearn import metrics as metrics\n",
        "\n",
        "\n",
        "seed = 42"
      ]
    },
    {
      "cell_type": "markdown",
      "source": [
        "Loading and inspecting the dataset."
      ],
      "metadata": {
        "id": "CdKf5_xFW7U-"
      }
    },
    {
      "cell_type": "code",
      "source": [
        "data = sns.load_dataset(\"diamonds\")"
      ],
      "metadata": {
        "id": "UhkCHy1sWZqV"
      },
      "execution_count": null,
      "outputs": []
    },
    {
      "cell_type": "code",
      "source": [
        "data.head()"
      ],
      "metadata": {
        "id": "_NwQEFs8fCK2"
      },
      "execution_count": null,
      "outputs": []
    },
    {
      "cell_type": "code",
      "source": [
        "data.info()"
      ],
      "metadata": {
        "id": "qKkJJVwwfCGW"
      },
      "execution_count": null,
      "outputs": []
    },
    {
      "cell_type": "code",
      "source": [
        "data.describe()"
      ],
      "metadata": {
        "id": "9ViEZ-aRfCIW"
      },
      "execution_count": null,
      "outputs": []
    },
    {
      "cell_type": "markdown",
      "source": [
        "Fix errors in the data."
      ],
      "metadata": {
        "id": "UrhuaobMmWWb"
      }
    },
    {
      "cell_type": "code",
      "source": [
        "data = data.query('x > 0 and y > 0 and z > 0')"
      ],
      "metadata": {
        "id": "2j14o9YSmWws"
      },
      "execution_count": null,
      "outputs": []
    },
    {
      "cell_type": "code",
      "source": [
        "data.isna().sum()"
      ],
      "metadata": {
        "id": "OttHD-h8mWy7"
      },
      "execution_count": null,
      "outputs": []
    },
    {
      "cell_type": "markdown",
      "source": [
        "Split data into training, validation and test datasets."
      ],
      "metadata": {
        "id": "hBtzfgYXW7e_"
      }
    },
    {
      "cell_type": "code",
      "source": [
        "train_data, test_data = train_test_split(data, test_size=0.2, \n",
        "                                         shuffle=True, random_state=seed)\n",
        "\n",
        "train_data, val_data = train_test_split(train_data, test_size=0.2, \n",
        "                                        shuffle=True, random_state=seed)"
      ],
      "metadata": {
        "id": "rs8hYv6KWZvp"
      },
      "execution_count": null,
      "outputs": []
    },
    {
      "cell_type": "code",
      "source": [
        "print(\"Dataset sizes - train: %d, validation: %d, test: %d\" \n",
        "      % (len(train_data), len(val_data), len(test_data)))"
      ],
      "metadata": {
        "id": "RNd7-QzDlWrW"
      },
      "execution_count": null,
      "outputs": []
    },
    {
      "cell_type": "markdown",
      "source": [
        "Explore the relationships in our data."
      ],
      "metadata": {
        "id": "w6rcvkgc1DX0"
      }
    },
    {
      "cell_type": "code",
      "source": [
        "num_cols = train_data.select_dtypes(include='number').columns.tolist()\n",
        "cat_cols = train_data.select_dtypes(include='category').columns.tolist()\n",
        "num_cols, cat_cols"
      ],
      "metadata": {
        "id": "KvXBGLT7lWuA"
      },
      "execution_count": null,
      "outputs": []
    },
    {
      "cell_type": "code",
      "source": [
        "fig, axes = plt.subplots(nrows=2, ncols=4, sharey=True, figsize=(12, 8))\n",
        "\n",
        "fig.suptitle(\"Relationship between y and predictors\", size=16)\n",
        "\n",
        "for idx, col in enumerate(num_cols):\n",
        "  sns.scatterplot(data=train_data, x=col, y='price',\n",
        "                  ax=axes[idx // 4, idx % 4], alpha=0.5)"
      ],
      "metadata": {
        "id": "_3DOTTuY8sI4"
      },
      "execution_count": null,
      "outputs": []
    },
    {
      "cell_type": "markdown",
      "source": [
        "Remove outliers to visualize variable relationships more easily."
      ],
      "metadata": {
        "id": "oGtJ12GaDVKU"
      }
    },
    {
      "cell_type": "code",
      "source": [
        "train_data_num = train_data[num_cols]\n",
        "\n",
        "perc_1 = train_data_num.quantile(0.01)\n",
        "perc_99 = train_data_num.quantile(0.99)\n",
        "\n",
        "filtered_data = train_data_num[\n",
        "    (train_data_num > perc_1) & \n",
        "    (train_data_num < perc_99)]"
      ],
      "metadata": {
        "id": "pn8m4qyE_G0V"
      },
      "execution_count": null,
      "outputs": []
    },
    {
      "cell_type": "code",
      "source": [
        "fig, axes = plt.subplots(nrows=2, ncols=4, sharey=True, figsize=(12, 8))\n",
        "\n",
        "fig.suptitle(\"Relationship between y and predictors\", size=16)\n",
        "\n",
        "for idx, col in enumerate(num_cols):\n",
        "  sns.scatterplot(data=filtered_data, x=col, y='price',\n",
        "                  ax=axes[idx // 4, idx % 4], alpha=0.5)"
      ],
      "metadata": {
        "id": "64HDPYGg_G29"
      },
      "execution_count": null,
      "outputs": []
    },
    {
      "cell_type": "markdown",
      "source": [
        "Transform variables to create a linear relationship."
      ],
      "metadata": {
        "id": "1UAUmLP2DOTx"
      }
    },
    {
      "cell_type": "code",
      "source": [
        "filtered_data['log_price'] = np.log(filtered_data['price'])"
      ],
      "metadata": {
        "id": "BZMLviWKNIuN"
      },
      "execution_count": null,
      "outputs": []
    },
    {
      "cell_type": "code",
      "source": [
        "fig, axes = plt.subplots(nrows=2, ncols=4, sharey=True, figsize=(12, 8))\n",
        "\n",
        "fig.suptitle(\"Relationship between log(y) and predictors\", size=16)\n",
        "\n",
        "for idx, col in enumerate(num_cols):\n",
        "  sns.scatterplot(data=filtered_data, x=col, y='log_price',\n",
        "                  ax=axes[idx // 4, idx % 4], alpha=0.5)"
      ],
      "metadata": {
        "id": "EfcB7U9NNIwm"
      },
      "execution_count": null,
      "outputs": []
    },
    {
      "cell_type": "code",
      "source": [
        "filtered_data['log_carat'] = np.log(filtered_data['carat'])\n",
        "filtered_data['log_x'] = np.log(filtered_data['x'])\n",
        "filtered_data['log_y'] = np.log(filtered_data['y'])\n",
        "filtered_data['log_z'] = np.log(filtered_data['z'])\n",
        "\n",
        "num_cols = ['log_carat', 'log_x', 'log_y', 'log_z']"
      ],
      "metadata": {
        "id": "RQ9qBpEWNIy9"
      },
      "execution_count": null,
      "outputs": []
    },
    {
      "cell_type": "code",
      "source": [
        "fig, axes = plt.subplots(nrows=1, ncols=4, sharey=True, figsize=(12, 4))\n",
        "\n",
        "fig.suptitle(\"Relationship between log(y) and predictors\", size=16)\n",
        "\n",
        "for idx, col in enumerate(num_cols):\n",
        "  sns.scatterplot(data=filtered_data, x=col, y='log_price',\n",
        "                  ax=axes[idx], alpha=0.5)"
      ],
      "metadata": {
        "id": "C693g9HWF--n"
      },
      "execution_count": null,
      "outputs": []
    },
    {
      "cell_type": "markdown",
      "source": [
        "Check for multicolinearity problems."
      ],
      "metadata": {
        "id": "Co7o8zb1EB6K"
      }
    },
    {
      "cell_type": "code",
      "source": [
        "train_data_copy = train_data.copy()"
      ],
      "metadata": {
        "id": "KtTcQB7aD8XD"
      },
      "execution_count": null,
      "outputs": []
    },
    {
      "cell_type": "code",
      "source": [
        "train_data_copy['log_price'] = np.log(train_data['price'])\n",
        "train_data_copy['log_carat'] = np.log(train_data['carat'])\n",
        "train_data_copy['log_x'] = np.log(train_data['x'])\n",
        "train_data_copy['log_y'] = np.log(train_data['y'])\n",
        "train_data_copy['log_z'] = np.log(train_data['z'])\n",
        "\n",
        "train_data_copy.drop(columns=['carat', 'x', 'y', 'z', 'price'], inplace=True)"
      ],
      "metadata": {
        "id": "xDmKX6zOSAWC"
      },
      "execution_count": null,
      "outputs": []
    },
    {
      "cell_type": "code",
      "source": [
        "plt.figure(figsize=(10, 6))\n",
        "sns.heatmap(train_data_copy.corr(), annot=True, linewidths=2, cmap='winter')\n",
        "\n",
        "plt.title(\"Correlations between numerical variables\", size=16)\n",
        "plt.show()"
      ],
      "metadata": {
        "id": "-3qhQErI_G_v"
      },
      "execution_count": null,
      "outputs": []
    },
    {
      "cell_type": "markdown",
      "source": [
        "Analyzing and selecting categorical variables."
      ],
      "metadata": {
        "id": "RK7j-6EgXAdq"
      }
    },
    {
      "cell_type": "code",
      "source": [
        "fig, axes = plt.subplots(nrows=1, ncols=3, sharey=True, figsize=(15, 4))\n",
        "\n",
        "for i, col in enumerate(cat_cols):\n",
        "  sns.histplot(train_data_copy[col], ax=axes[i])\n",
        "  axes[i].set_title(\"%s counts by category\" % (col))"
      ],
      "metadata": {
        "id": "D2M42we5WZ4n"
      },
      "execution_count": null,
      "outputs": []
    },
    {
      "cell_type": "code",
      "source": [
        "train_data_copy.head()"
      ],
      "metadata": {
        "id": "Hu-Yhxp39VnI"
      },
      "execution_count": null,
      "outputs": []
    },
    {
      "cell_type": "code",
      "source": [
        "for col in cat_cols:\n",
        "  codes, uniques = pd.factorize(train_data_copy[col])\n",
        "  train_data_copy[col] = codes"
      ],
      "metadata": {
        "id": "Vg_JvvAn-LDY"
      },
      "execution_count": null,
      "outputs": []
    },
    {
      "cell_type": "code",
      "source": [
        "train_data_copy.head()"
      ],
      "metadata": {
        "id": "7thlcggQ-WFY"
      },
      "execution_count": null,
      "outputs": []
    },
    {
      "cell_type": "code",
      "source": [
        "discrete = [True] * 3 + [False] * 7"
      ],
      "metadata": {
        "id": "Wl6sTbEe8Prm"
      },
      "execution_count": null,
      "outputs": []
    },
    {
      "cell_type": "code",
      "source": [
        "info = mutual_info_regression(train_data_copy, train_data_copy['log_price'], \n",
        "                              discrete_features=discrete)\n",
        "\n",
        "info = pd.Series(info, name='Mutual regression scores', \n",
        "                 index=train_data_copy.columns.tolist())\n",
        "\n",
        "info.sort_values(ascending=False, inplace=True)"
      ],
      "metadata": {
        "id": "ac5orRjV6eoI"
      },
      "execution_count": null,
      "outputs": []
    },
    {
      "cell_type": "code",
      "source": [
        "info"
      ],
      "metadata": {
        "id": "QcAmkrro7PDA"
      },
      "execution_count": null,
      "outputs": []
    },
    {
      "cell_type": "markdown",
      "source": [
        "Building our models."
      ],
      "metadata": {
        "id": "r85O9WWVF5x2"
      }
    },
    {
      "cell_type": "code",
      "source": [
        "X_train = train_data.drop(columns=['price'])\n",
        "y_train = train_data['price']\n",
        "\n",
        "X_val = val_data.drop(columns=['price'])\n",
        "y_val = val_data['price']\n",
        "\n",
        "X_test = test_data.drop(columns=['price'])\n",
        "y_test = test_data['price']"
      ],
      "metadata": {
        "id": "IFRpkgbuF8Ly"
      },
      "execution_count": null,
      "outputs": []
    },
    {
      "cell_type": "code",
      "source": [
        "def evaluate_model(model, X, y):\n",
        "  y_pred = model.predict(X)\n",
        "  r2 = metrics.r2_score(y, y_pred)\n",
        "  mse = metrics.mean_squared_error(y, y_pred)\n",
        "  rmse = np.sqrt(mse)\n",
        "  return r2, mse, rmse"
      ],
      "metadata": {
        "id": "2cBKBw8DludW"
      },
      "execution_count": null,
      "outputs": []
    },
    {
      "cell_type": "markdown",
      "source": [
        "Model #1: $\\ln(\\text{price}) = \\beta_0 + \\beta_1 \\ln(\\text{carat}) + \\beta_2 \\text{clarity}$"
      ],
      "metadata": {
        "id": "_45Wg6MX4wHi"
      }
    },
    {
      "cell_type": "code",
      "source": [
        "preprocessor = ColumnTransformer(\n",
        "    transformers=[\n",
        "        (\"num\", FunctionTransformer(np.log), ['carat']),\n",
        "        (\"cat\", OneHotEncoder(drop='first'), ['clarity']),\n",
        "    ],\n",
        "    remainder='drop'\n",
        ")\n",
        "ttr = TransformedTargetRegressor(\n",
        "    regressor=LinearRegression(), func=np.log, inverse_func=np.exp)\n",
        "\n",
        "model_1 = make_pipeline(preprocessor, ttr)"
      ],
      "metadata": {
        "id": "3TWnBfotBaYl"
      },
      "execution_count": null,
      "outputs": []
    },
    {
      "cell_type": "code",
      "source": [
        "model_1.fit(X_train, y_train)"
      ],
      "metadata": {
        "id": "df4AmGl_b0_O"
      },
      "execution_count": null,
      "outputs": []
    },
    {
      "cell_type": "code",
      "source": [
        "r2, mse, rmse = evaluate_model(model_1, X_train, y_train)\n",
        "print(\"Training R^2: %.3f, MSE: %.3f, RMSE: %.3f\" % (r2, mse, rmse))"
      ],
      "metadata": {
        "id": "veGRLAGjmxAE"
      },
      "execution_count": null,
      "outputs": []
    },
    {
      "cell_type": "code",
      "source": [
        "r2, mse, rmse = evaluate_model(model_1, X_val, y_val)\n",
        "print(\"Validation R^2: %.3f, MSE: %.3f, RMSE: %.3f\" % (r2, mse, rmse))"
      ],
      "metadata": {
        "id": "ryQlM9NOmxCp"
      },
      "execution_count": null,
      "outputs": []
    },
    {
      "cell_type": "markdown",
      "source": [
        "Model #2: $\\ln(\\text{price}) = \\beta_0 + \\beta_1 \\ln(\\text{carat}) + \\beta_2 \\text{clarity} + \\beta_3 \\text{color}$"
      ],
      "metadata": {
        "id": "zDqP-t2v5-7O"
      }
    },
    {
      "cell_type": "code",
      "source": [
        "preprocessor = ColumnTransformer(\n",
        "    transformers=[\n",
        "        (\"num\", FunctionTransformer(np.log), ['carat']),\n",
        "        (\"cat\", OneHotEncoder(drop='first'), ['clarity', 'color']),\n",
        "    ],\n",
        "    remainder='drop'\n",
        ")\n",
        "ttr = TransformedTargetRegressor(\n",
        "    regressor=LinearRegression(), func=np.log, inverse_func=np.exp)\n",
        "\n",
        "model_2 = make_pipeline(preprocessor, ttr)"
      ],
      "metadata": {
        "id": "89rw_m9Pf_Rk"
      },
      "execution_count": null,
      "outputs": []
    },
    {
      "cell_type": "code",
      "source": [
        "model_2.fit(X_train, y_train)"
      ],
      "metadata": {
        "id": "lVkd-gkff_Rl"
      },
      "execution_count": null,
      "outputs": []
    },
    {
      "cell_type": "code",
      "source": [
        "r2, mse, rmse = evaluate_model(model_2, X_train, y_train)\n",
        "print(\"Training R^2: %.3f, MSE: %.3f, RMSE: %.3f\" % (r2, mse, rmse))"
      ],
      "metadata": {
        "id": "1n8a0q2PoK4D"
      },
      "execution_count": null,
      "outputs": []
    },
    {
      "cell_type": "code",
      "source": [
        "r2, mse, rmse = evaluate_model(model_2, X_val, y_val)\n",
        "print(\"Validation R^2: %.3f, MSE: %.3f, RMSE: %.3f\" % (r2, mse, rmse))"
      ],
      "metadata": {
        "id": "1he3wSqhoK4D"
      },
      "execution_count": null,
      "outputs": []
    },
    {
      "cell_type": "markdown",
      "source": [
        "Model #3: $\\ln(\\text{price}) = \\beta_0 + \\beta_1 \\ln(\\text{carat}) + \\beta_2 \\text{clarity} + \\beta_3 \\text{color} + \\beta_4 \\text{cut}$"
      ],
      "metadata": {
        "id": "lNRKhzs65_JK"
      }
    },
    {
      "cell_type": "code",
      "source": [
        "preprocessor = ColumnTransformer(\n",
        "    transformers=[\n",
        "        (\"num\", FunctionTransformer(np.log), ['carat']),\n",
        "        (\"cat\", OneHotEncoder(drop='first'), ['clarity', 'color', 'cut']),\n",
        "    ],\n",
        "    remainder='drop'\n",
        ")\n",
        "ttr = TransformedTargetRegressor(\n",
        "    regressor=LinearRegression(), func=np.log, inverse_func=np.exp)\n",
        "\n",
        "model_3 = make_pipeline(preprocessor, ttr)"
      ],
      "metadata": {
        "id": "SGnylXKFoR-v"
      },
      "execution_count": null,
      "outputs": []
    },
    {
      "cell_type": "code",
      "source": [
        "model_3.fit(X_train, y_train)"
      ],
      "metadata": {
        "id": "SOet9AZkoR-v"
      },
      "execution_count": null,
      "outputs": []
    },
    {
      "cell_type": "code",
      "source": [
        "r2, mse, rmse = evaluate_model(model_3, X_train, y_train)\n",
        "print(\"Training R^2: %.3f, MSE: %.3f, RMSE: %.3f\" % (r2, mse, rmse))"
      ],
      "metadata": {
        "id": "v1lQjYJYoR-v"
      },
      "execution_count": null,
      "outputs": []
    },
    {
      "cell_type": "code",
      "source": [
        "r2, mse, rmse = evaluate_model(model_3, X_val, y_val)\n",
        "print(\"Validation R^2: %.3f, MSE: %.3f, RMSE: %.3f\" % (r2, mse, rmse))"
      ],
      "metadata": {
        "id": "9dpOT223oR-v"
      },
      "execution_count": null,
      "outputs": []
    },
    {
      "cell_type": "markdown",
      "source": [
        "Checking our model's assumptions."
      ],
      "metadata": {
        "id": "MCqXDNakoeSQ"
      }
    },
    {
      "cell_type": "code",
      "source": [
        "y_pred = model_2.predict(X_val)\n",
        "log_y_pred = np.log(y_pred)\n",
        "log_y_val = np.log(y_val)\n",
        "\n",
        "residuals = log_y_val - log_y_pred"
      ],
      "metadata": {
        "id": "BXyQUVdeWaRv"
      },
      "execution_count": null,
      "outputs": []
    },
    {
      "cell_type": "code",
      "source": [
        "sns.scatterplot(x=log_y_val, y=log_y_pred, alpha=0.5)"
      ],
      "metadata": {
        "id": "XDauZ5mOxjJu"
      },
      "execution_count": null,
      "outputs": []
    },
    {
      "cell_type": "code",
      "source": [
        "sns.jointplot(x=log_y_val, y=residuals)"
      ],
      "metadata": {
        "id": "3du8RmjZxjMI"
      },
      "execution_count": null,
      "outputs": []
    },
    {
      "cell_type": "code",
      "source": [
        "sns.histplot(residuals, bins=30)"
      ],
      "metadata": {
        "id": "5shWG6CnWaU4"
      },
      "execution_count": null,
      "outputs": []
    },
    {
      "cell_type": "code",
      "source": [
        "qqp = qqplot(residuals, line='s')"
      ],
      "metadata": {
        "id": "hT-B1rSy0HAG"
      },
      "execution_count": null,
      "outputs": []
    },
    {
      "cell_type": "markdown",
      "source": [
        "Evaluating our model on the test dataset."
      ],
      "metadata": {
        "id": "sxTDyyuGxEe9"
      }
    },
    {
      "cell_type": "code",
      "source": [
        "r2, mse, rmse = evaluate_model(model_2, X_test, y_test)\n",
        "print(\"Test R^2: %.3f, MSE: %.3f, RMSE: %.3f\" % (r2, mse, rmse))"
      ],
      "metadata": {
        "id": "yuHGfZLvWaOY"
      },
      "execution_count": null,
      "outputs": []
    },
    {
      "cell_type": "code",
      "source": [
        "betas = model_2[-1].regressor_.coef_"
      ],
      "metadata": {
        "id": "wh_BHp-KHeD3"
      },
      "execution_count": null,
      "outputs": []
    },
    {
      "cell_type": "code",
      "source": [
        "fnames = model_2[0].transformers_[1][1].get_feature_names_out()\n",
        "fnames = ['log_carat'] + fnames.tolist()"
      ],
      "metadata": {
        "id": "_KgxJvHxPhR2"
      },
      "execution_count": null,
      "outputs": []
    },
    {
      "cell_type": "code",
      "source": [
        "betas = pd.Series(betas, name=\"Beta parameters\", index=fnames)"
      ],
      "metadata": {
        "id": "Oj1Xx7IsSHAI"
      },
      "execution_count": null,
      "outputs": []
    },
    {
      "cell_type": "code",
      "source": [
        "betas"
      ],
      "metadata": {
        "id": "DeCvnFF6SRgz"
      },
      "execution_count": null,
      "outputs": []
    },
    {
      "cell_type": "code",
      "source": [
        ""
      ],
      "metadata": {
        "id": "CwQpUxpBWWxk"
      },
      "execution_count": null,
      "outputs": []
    }
  ]
}