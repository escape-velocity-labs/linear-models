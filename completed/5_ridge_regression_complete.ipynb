{
  "nbformat": 4,
  "nbformat_minor": 0,
  "metadata": {
    "colab": {
      "provenance": [],
      "collapsed_sections": []
    },
    "kernelspec": {
      "name": "python3",
      "display_name": "Python 3"
    },
    "language_info": {
      "name": "python"
    }
  },
  "cells": [
    {
      "cell_type": "markdown",
      "source": [
        "# Ridge regression"
      ],
      "metadata": {
        "id": "Bl-ax1Wk0Xkf"
      }
    },
    {
      "cell_type": "code",
      "source": [
        "import numpy as np\n",
        "import pandas as pd\n",
        "import seaborn as sns\n",
        "import matplotlib.pyplot as plt\n",
        "import plotly.express as px\n",
        "import plotly.graph_objects as go\n",
        "from plotly.subplots import make_subplots\n",
        "\n",
        "from sklearn.base import BaseEstimator\n",
        "from sklearn.datasets import make_regression\n",
        "from sklearn.linear_model import LinearRegression\n",
        "from sklearn.preprocessing import PolynomialFeatures\n",
        "from sklearn.metrics import mean_squared_error\n",
        "\n",
        "random_seed = 42"
      ],
      "metadata": {
        "id": "R6Rqx4YGNyrC"
      },
      "execution_count": null,
      "outputs": []
    },
    {
      "cell_type": "markdown",
      "source": [
        "Multicollinearity."
      ],
      "metadata": {
        "id": "XvPiOGijxUxR"
      }
    },
    {
      "cell_type": "code",
      "source": [
        "#@title\n",
        "X, y = make_regression(n_samples=100, n_features=1, noise=3, random_state=random_seed)\n",
        "X = X.repeat(2, axis=1)"
      ],
      "metadata": {
        "id": "_dZmhubfxVBz",
        "cellView": "form"
      },
      "execution_count": null,
      "outputs": []
    },
    {
      "cell_type": "code",
      "source": [
        "x_noise = 0.001 # @param {type: \"slider\", min: 0.001, max: 0.25, step: 0.001}\n",
        "\n",
        "X_copy = X.copy()\n",
        "X_copy += x_noise * np.random.randn(100, 2)\n",
        "\n",
        "lr = LinearRegression()\n",
        "lr.fit(X_copy, y)\n",
        "\n",
        "xrange = np.linspace(X_copy.min(axis=0), X_copy.max(axis=0), 100)\n",
        "xx1, xx2 = np.meshgrid(xrange[:, 0], xrange[:, 1])\n",
        "reg_plane = lr.intercept_ + lr.coef_[0] * xx1 + lr.coef_[1] * xx2\n",
        "\n",
        "fig = px.scatter_3d(x=X_copy[:, 0], y=X_copy[:, 1], z=y, width=800, height=800)\n",
        "fig.update_traces(marker=dict(size=5))\n",
        "fig.add_surface(x=xx1, y=xx2, z=reg_plane, opacity=0.5)\n",
        "\n",
        "fig.update_layout(\n",
        "    title=\"b0: %.2f,  b1: %.2f,  b2: %.2f\" % (lr.intercept_, lr.coef_[0], lr.coef_[1]),\n",
        "    scene_camera=dict(eye=dict(x=-1.3, y=-1.3, z=0.1)),\n",
        "    title_x=0.5)\n",
        "\n",
        "fig.show()"
      ],
      "metadata": {
        "id": "7SIPwyTTAPPo"
      },
      "execution_count": null,
      "outputs": []
    },
    {
      "cell_type": "markdown",
      "source": [
        "Ridge regression: $\\hat \\beta_R = V(\\Sigma^2 + \\lambda)^{-1}\\Sigma U^T y$"
      ],
      "metadata": {
        "id": "-SM2V3Jo0jxx"
      }
    },
    {
      "cell_type": "code",
      "source": [
        "class Ridge(BaseEstimator):\n",
        "\n",
        "  def __init__(self, lamb=0.0, fit_intercept=True, sv_tol=1e-15):\n",
        "    self.lamb = lamb\n",
        "    self.fit_intercept = fit_intercept\n",
        "    self.sv_tol = sv_tol\n",
        "  \n",
        "  def fit(self, X, y):\n",
        "    X_mean = X.mean(axis=0)\n",
        "    y_mean = y.mean(axis=0)\n",
        "    X = X - X_mean\n",
        "    y = y - y_mean\n",
        "\n",
        "    U, s, Vt = np.linalg.svd(X, full_matrices=False)\n",
        "\n",
        "    idx = s > self.sv_tol\n",
        "    U = U[:, idx]\n",
        "    s = s[idx]\n",
        "    Vt = Vt[idx]\n",
        "    s = (1 / (s ** 2 + lamb)) * s\n",
        "\n",
        "    coef = Vt.T @ np.diag(s) @ U.T @ y\n",
        "    self.coef_ = coef.ravel()\n",
        "    if self.fit_intercept:\n",
        "      self.intercept_ = y_mean - np.dot(X_mean, self.coef_)\n",
        "    else:\n",
        "      self.intercept_ = 0.0\n",
        "\n",
        "  def predict(self, X):\n",
        "    y_pred = self.intercept_ + X @ self.coef_\n",
        "    return y_pred\n"
      ],
      "metadata": {
        "id": "pNz6GSVR2jDJ"
      },
      "execution_count": null,
      "outputs": []
    },
    {
      "cell_type": "code",
      "source": [
        "x_noise = 0.001 # @param {type: \"slider\", min: 0.001, max: 0.25, step: 0.001}\n",
        "lamb = 10 # @param {type: \"slider\", min: 0.0, max: 10, step: 0.001}\n",
        "\n",
        "X_copy = X.copy()\n",
        "X_copy += x_noise * np.random.randn(100, 2)\n",
        "\n",
        "lr = Ridge(lamb=lamb)\n",
        "lr.fit(X_copy, y)\n",
        "\n",
        "xrange = np.linspace(X_copy.min(axis=0), X_copy.max(axis=0), 100)\n",
        "xx1, xx2 = np.meshgrid(xrange[:, 0], xrange[:, 1])\n",
        "reg_plane = lr.intercept_ + lr.coef_[0] * xx1 + lr.coef_[1] * xx2\n",
        "\n",
        "fig = px.scatter_3d(x=X_copy[:, 0], y=X_copy[:, 1], z=y, width=800, height=800)\n",
        "fig.update_traces(marker=dict(size=5))\n",
        "fig.add_surface(x=xx1, y=xx2, z=reg_plane, opacity=0.5)\n",
        "\n",
        "fig.update_layout(\n",
        "    title=\"b0: %.2f,  b1: %.2f,  b2: %.2f\" % (lr.intercept_, lr.coef_[0], lr.coef_[1]),\n",
        "    scene_camera=dict(eye=dict(x=-1.3, y=-1.3, z=0.1)),\n",
        "    title_x=0.5)\n",
        "\n",
        "fig.show()"
      ],
      "metadata": {
        "id": "DiqT1os8xXlC"
      },
      "execution_count": null,
      "outputs": []
    },
    {
      "cell_type": "markdown",
      "source": [
        "Overfitting."
      ],
      "metadata": {
        "id": "7TES6Eh60gqB"
      }
    },
    {
      "cell_type": "code",
      "source": [
        "#@title\n",
        "X, y = make_regression(n_samples=20, n_features=1, \n",
        "                       noise=20, random_state=random_seed)\n",
        "y_outlier = y.copy()\n",
        "y_outlier[X.argmax()] += 200"
      ],
      "metadata": {
        "id": "pZ_OBu2X0kQP",
        "cellView": "form"
      },
      "execution_count": null,
      "outputs": []
    },
    {
      "cell_type": "code",
      "source": [
        "# lamb = 0 #@param {type: \"slider\", min: 0, max: 10, step: 0.1}\n",
        "\n",
        "plt.figure(figsize=(8, 6))\n",
        "\n",
        "model = LinearRegression()\n",
        "model.fit(X, y)\n",
        "\n",
        "model_outlier = LinearRegression()\n",
        "model_outlier.fit(X, y_outlier)\n",
        "\n",
        "model_ridge  = Ridge(lamb=lamb)\n",
        "model_ridge.fit(X, y_outlier)\n",
        "\n",
        "x_line = np.linspace(X.min(), X.max(), 100)\n",
        "\n",
        "model_line = model.intercept_ + model.coef_ * x_line\n",
        "model_of_line = model_outlier.intercept_ + model_outlier.coef_ * x_line\n",
        "model_ridge_line = model_ridge.intercept_ + model_ridge.coef_ * x_line\n",
        "\n",
        "\n",
        "sns.scatterplot(x=X.flatten(), y=y_outlier, s=200, edgecolor='k')\n",
        "sns.lineplot(x=x_line, y=model_line, linewidth=3, color='r', label='OLS')\n",
        "sns.lineplot(x=x_line, y=model_of_line, linewidth=3, color='y', linestyle='--', label='OLS outlier')\n",
        "sns.lineplot(x=x_line, y=model_ridge_line, linewidth=3, color='teal', linestyle='-.', label='Ridge')\n",
        "\n",
        "plt.title(\"Effect of outliers on OLS regression\", size=16)\n",
        "plt.xlabel(\"x\", size=14)\n",
        "plt.ylabel(\"y\", size=14)\n",
        "\n",
        "plt.show()"
      ],
      "metadata": {
        "id": "3kJ_O8XWdxGS"
      },
      "execution_count": null,
      "outputs": []
    },
    {
      "cell_type": "markdown",
      "source": [
        "Reduce overfitting in polynomial regression."
      ],
      "metadata": {
        "id": "ZBQUvLbk--pq"
      }
    },
    {
      "cell_type": "code",
      "source": [
        "#@title\n",
        "X, _ = make_regression(n_samples=20, n_features=1, random_state=random_seed)\n",
        "y = -1 * X ** 3 + 5 * X ** 2 + X + 5 * np.random.rand(*X.shape)"
      ],
      "metadata": {
        "id": "GStV3gaxdxJD",
        "cellView": "form"
      },
      "execution_count": null,
      "outputs": []
    },
    {
      "cell_type": "code",
      "source": [
        "lamb = 0 #@param {type: \"slider\", min: 0, max: 3, step: 0.1}\n",
        "\n",
        "pf = PolynomialFeatures(degree=10, include_bias=False)\n",
        "X_poly = pf.fit_transform(X)\n",
        "\n",
        "rr = Ridge(lamb=lamb)\n",
        "rr.fit(X_poly, y)\n",
        "\n",
        "x_line = np.linspace(X.min(), X.max(), 100)\n",
        "x_line_poly = pf.transform(x_line[:, np.newaxis])\n",
        "\n",
        "model_ridge_line = rr.intercept_ + x_line_poly @ rr.coef_\n",
        "\n",
        "plt.figure(figsize=(8, 6))\n",
        "\n",
        "sns.lineplot(x=x_line, y=model_ridge_line, linewidth=3, \n",
        "             color='r', label='$\\lambda=%.2f$' % (lamb))\n",
        "\n",
        "plt.scatter(X.flatten(), y, s=100, linewidth=2, edgecolor='k')\n",
        "plt.title(\"x vs y plot\", size=16)\n",
        "plt.xlabel(\"x\", size=14)\n",
        "plt.ylabel(\"y\", size=14)\n",
        "plt.show()"
      ],
      "metadata": {
        "id": "Bqd8ex-z_Dc7"
      },
      "execution_count": null,
      "outputs": []
    },
    {
      "cell_type": "markdown",
      "source": [
        "Why is it called Ridge regression?"
      ],
      "metadata": {
        "id": "fQqxcOxvZJ23"
      }
    },
    {
      "cell_type": "code",
      "source": [
        "#@title\n",
        "X, _ = make_regression(n_samples=1000, n_features=1, noise=3, random_state=random_seed)\n",
        "X = X.repeat(2, axis=1) + 0.01 * np.random.randn(1000, 2)\n",
        "\n",
        "y = 3 * X[:, 0] + 3 * X[:, 1]\n",
        "y = y[:, np.newaxis]\n",
        "\n",
        "b = np.linspace((2, 2), (4, 4), 100)\n",
        "bb1, bb2 = np.meshgrid(b[:, 0], b[:, 1])\n",
        "bb = np.stack((bb1, bb2))\n",
        "bb = bb.reshape(2, -1)\n",
        "mse = np.mean((y - X @ bb) ** 2, axis=0)\n",
        "mse = mse.reshape(100, 100)\n",
        "\n",
        "fig = make_subplots(rows=1, cols=2, specs=[[{'type': 'surface'}, {'type': 'surface'}]])\n",
        "\n",
        "fig.add_trace(go.Surface(x=bb1, y=bb2, z=mse), row=1, col=1)\n",
        "\n",
        "b = np.linspace((-5, -5), (10, 5), 100)\n",
        "bb1, bb2 = np.meshgrid(b[:, 0], b[:, 1])\n",
        "bb = np.stack((bb1, bb2))\n",
        "bb = bb.reshape(2, -1)\n",
        "mse = np.mean((y - X @ bb) ** 2, axis=0)\n",
        "mse = mse.reshape(100, 100) + 1 * bb1.T @ bb2\n",
        "\n",
        "fig.add_trace(go.Surface(x=bb1, y=bb2, z=mse), row=1, col=2)\n",
        "\n",
        "fig.update_traces(showscale=False)\n",
        "fig.update_layout(width=1200, title=\"OLS vs Ridge\", title_x=0.5)\n",
        "\n",
        "fig.update_layout(scene=dict(xaxis_title='b1', yaxis_title='b2', zaxis_title='MSE'))\n",
        "\n",
        "fig.show()"
      ],
      "metadata": {
        "cellView": "form",
        "id": "01_gqGUzZUvf"
      },
      "execution_count": null,
      "outputs": []
    },
    {
      "cell_type": "code",
      "source": [],
      "metadata": {
        "id": "2i5HjEQKohQN"
      },
      "execution_count": null,
      "outputs": []
    }
  ]
}