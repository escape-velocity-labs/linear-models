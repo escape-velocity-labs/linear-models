{
  "nbformat": 4,
  "nbformat_minor": 0,
  "metadata": {
    "colab": {
      "provenance": [],
      "collapsed_sections": []
    },
    "kernelspec": {
      "name": "python3",
      "display_name": "Python 3"
    },
    "language_info": {
      "name": "python"
    }
  },
  "cells": [
    {
      "cell_type": "markdown",
      "source": [
        "# Logistic Regression"
      ],
      "metadata": {
        "id": "KWeoPD4hYYJZ"
      }
    },
    {
      "cell_type": "code",
      "execution_count": null,
      "metadata": {
        "id": "iiAE2oNe16Ec"
      },
      "outputs": [],
      "source": [
        "import numpy as np\n",
        "import seaborn as sns\n",
        "import matplotlib.pyplot as plt\n",
        "import sklearn.metrics as metrics\n",
        "\n",
        "from sklearn.base import BaseEstimator\n",
        "from sklearn.datasets import make_blobs, make_circles, make_moons\n",
        "from sklearn.preprocessing import StandardScaler, PolynomialFeatures, OneHotEncoder\n",
        "\n",
        "from scipy.special import expit, softmax\n",
        "\n",
        "random_seed = 42"
      ]
    },
    {
      "cell_type": "code",
      "source": [
        "#@title\n",
        "def plot_dataset(X, y, ax=None, marker='o'):\n",
        "  ax = ax or plt.gca()\n",
        "  x1, x2 = X[:, 0], X[:, 1]\n",
        "  ax.scatter(x=x1, y=x2, c=y, s=150, cmap='coolwarm', \n",
        "             linewidth=2, edgecolor='k', marker=marker)\n",
        "\n",
        "\n",
        "def create_domain_set(X):\n",
        "  x1_min = X[:, 0].min()\n",
        "  x1_max = X[:, 0].max()\n",
        "  x2_min = X[:, 1].min()\n",
        "  x2_max = X[:, 1].max()\n",
        "\n",
        "  x1 = np.linspace(x1_min - 0.5, x1_max + 0.5, 100)\n",
        "  x2 = np.linspace(x2_min - 0.5, x2_max + 0.5, 100)\n",
        "  x1, x2 = np.meshgrid(x1, x2)\n",
        "  X_line = np.stack((x1, x2)).T\n",
        "  X_line = X_line.reshape(-1, 2)\n",
        "  return x1, x2, X_line\n",
        "\n",
        "\n",
        "def plot_contours(X, y, model, ax=None, transforms=[]):\n",
        "  ax = ax or plt.gca()\n",
        "  x1, x2, X_line = create_domain_set(X)\n",
        "  for t in transforms:\n",
        "    X_line = t.transform(X_line)\n",
        "  y_pred = model.predict_proba(X_line)\n",
        "  y_pred = y_pred.reshape(100, 100)\n",
        "  ax.contourf(x1, x2, y_pred.T, cmap='coolwarm', levels=40)\n",
        "  ax.set_title(\"Contour plots\", size=16)\n",
        "\n",
        "\n",
        "def plot_decision_boundary(X, y, model, ax=None, transforms=[]):\n",
        "  ax = ax or plt.gca()\n",
        "  x1, x2, X_line = create_domain_set(X)\n",
        "  for t in transforms:\n",
        "    X_line = t.transform(X_line)\n",
        "  y_pred = model.predict(X_line)\n",
        "  y_pred = y_pred.reshape(100, 100)\n",
        "  ax.contourf(x1, x2, y_pred.T, cmap='coolwarm', levels=40)\n",
        "  ax.set_title(\"Decision boundary\", size=16)\n",
        "\n",
        "\n",
        "def plot_parameters(model, ax=None):\n",
        "  ax = ax or plt.gca()\n",
        "  coef = model.coef_.flatten()\n",
        "  labels = ['b%d' % (i) for i in range(len(coef) + 1)]\n",
        "  params = np.insert(coef, 0, model.intercept_)\n",
        "  ax.barh(labels, params)\n",
        "  plt.title(\"Model parameters\")"
      ],
      "metadata": {
        "id": "HCFVWehQ5CVc",
        "cellView": "form"
      },
      "execution_count": null,
      "outputs": []
    },
    {
      "cell_type": "markdown",
      "source": [
        "Binary logistic regression"
      ],
      "metadata": {
        "id": "B4zzUPorZ2e8"
      }
    },
    {
      "cell_type": "code",
      "source": [
        "X, y = make_blobs(n_samples=100, n_features=2, \n",
        "                  centers=2, random_state=random_seed)"
      ],
      "metadata": {
        "id": "v0-KlIIA2JwF"
      },
      "execution_count": null,
      "outputs": []
    },
    {
      "cell_type": "code",
      "source": [
        "plt.figure(figsize=(6, 6))\n",
        "plot_dataset(X, y)"
      ],
      "metadata": {
        "id": "EAlPipkH2KjD"
      },
      "execution_count": null,
      "outputs": []
    },
    {
      "cell_type": "code",
      "source": [
        "class LogisticRegression(BaseEstimator):\n",
        "\n",
        "  def __init__(self, fit_intercept=True, lr=0.0001, max_iter=1000, tol=1e-4):\n",
        "    self.fit_intercept = fit_intercept\n",
        "    self.lr = lr\n",
        "    self.max_iter = max_iter\n",
        "    self.tol = tol\n",
        "  \n",
        "  def fit(self, X, y):\n",
        "    if self.fit_intercept:\n",
        "      X = self._add_bias_column(X)\n",
        "    n_samples, n_features = X.shape\n",
        "    w = np.zeros(n_features)\n",
        "\n",
        "    for iter in range(self.max_iter):\n",
        "      w_old = w.copy()\n",
        "      mu = expit(X @ w)\n",
        "      error = np.expand_dims(mu - y, axis=-1)\n",
        "      grad = error * X\n",
        "      w = w - self.lr * np.sum(grad, axis=0)\n",
        "\n",
        "      if np.linalg.norm(w - w_old) < self.tol:\n",
        "        break\n",
        "    \n",
        "    if self.fit_intercept:\n",
        "      self.intercept_ = w[0]\n",
        "      self.coef_ = w[1:]\n",
        "    else:\n",
        "      self.intercept_ = 0.0\n",
        "      self.coef_ = w\n",
        "  \n",
        "  def predict_proba(self, X):\n",
        "    probs = expit(self.intercept_ + X @ self.coef_)\n",
        "    return probs\n",
        "\n",
        "  def predict(self, X):\n",
        "    probs = expit(self.intercept_ + X @ self.coef_)\n",
        "    classes = np.round(probs)\n",
        "    return classes\n",
        "  \n",
        "  def _add_bias_column(self, X):\n",
        "    n_samples, n_features = X.shape\n",
        "    bias = np.ones((n_samples, 1))\n",
        "    X = np.hstack((bias, X))\n",
        "    return X\n"
      ],
      "metadata": {
        "id": "3qV0gNpGQDkG"
      },
      "execution_count": null,
      "outputs": []
    },
    {
      "cell_type": "code",
      "source": [
        "ss = StandardScaler()\n",
        "X = ss.fit_transform(X)"
      ],
      "metadata": {
        "id": "XUM-SDSB91Iu"
      },
      "execution_count": null,
      "outputs": []
    },
    {
      "cell_type": "code",
      "source": [
        "lr = LogisticRegression()\n",
        "lr.fit(X, y)\n",
        "\n",
        "fig, (ax1, ax2) = plt.subplots(nrows=1, ncols=2, sharex=True, \n",
        "                               sharey=True, figsize=(10, 5))\n",
        "\n",
        "plot_decision_boundary(X, y, lr, ax1)\n",
        "plot_dataset(X, y, ax1)\n",
        "plot_contours(X, y, lr, ax2)\n",
        "plot_dataset(X, y, ax2)\n",
        "fig.tight_layout()"
      ],
      "metadata": {
        "id": "A7s3OcWj6bd1"
      },
      "execution_count": null,
      "outputs": []
    },
    {
      "cell_type": "code",
      "source": [
        "plt.figure(figsize=(6, 4))\n",
        "plot_parameters(lr)"
      ],
      "metadata": {
        "id": "J_vw-okXTcko"
      },
      "execution_count": null,
      "outputs": []
    },
    {
      "cell_type": "markdown",
      "source": [
        "Multinomial logistic regression"
      ],
      "metadata": {
        "id": "2cZQH7FiZ6Xk"
      }
    },
    {
      "cell_type": "code",
      "source": [
        "centers = np.array([[-4, 4], [0, -4], [4, 4]])\n",
        "X, y = make_blobs(n_samples=100, n_features=2, \n",
        "                  centers=centers, random_state=random_seed)"
      ],
      "metadata": {
        "id": "qcy_Fji3Vqyq"
      },
      "execution_count": null,
      "outputs": []
    },
    {
      "cell_type": "code",
      "source": [
        "plt.figure(figsize=(6, 6))\n",
        "plot_dataset(X, y)"
      ],
      "metadata": {
        "id": "j_2D92kmVq6q"
      },
      "execution_count": null,
      "outputs": []
    },
    {
      "cell_type": "code",
      "source": [
        "class MultinomialLogisticRegression(BaseEstimator):\n",
        "\n",
        "  def __init__(self, fit_intercept=True, lr=0.0001, max_iter=1000, tol=1e-4):\n",
        "    self.fit_intercept = fit_intercept\n",
        "    self.lr = lr\n",
        "    self.max_iter = max_iter\n",
        "    self.tol = tol\n",
        "  \n",
        "  def fit(self, X, y):\n",
        "    if self.fit_intercept:\n",
        "      X = self._add_bias_column(X)\n",
        "    n_samples, n_features = X.shape\n",
        "    _, n_classes = y.shape\n",
        "    w = np.zeros((n_classes, n_features))\n",
        "\n",
        "    for iter in range(self.max_iter):\n",
        "      w_old = w.copy()\n",
        "      mu = softmax(X @ w)\n",
        "      error = mu - y\n",
        "      grad = error.T @ X\n",
        "      w = w - self.lr * grad\n",
        "\n",
        "      if np.linalg.norm(w - w_old) < self.tol:\n",
        "        break\n",
        "    \n",
        "    if self.fit_intercept:\n",
        "      self.intercept_ = w[:, 0][np.newaxis, :]\n",
        "      self.coef_ = w[:, 1:]\n",
        "    else:\n",
        "      self.intercept_ = np.zeros((1, n_classes))\n",
        "      self.coef_ = w\n",
        "  \n",
        "  def predict_proba(self, X):\n",
        "    probs = softmax(self.intercept_ + X @ self.coef_.T, axis=-1)\n",
        "    return probs\n",
        "\n",
        "  def predict(self, X):\n",
        "    probs = softmax(self.intercept_ + X @ self.coef_.T, axis=-1)\n",
        "    classes = np.argmax(probs, axis=-1)\n",
        "    return classes\n",
        "  \n",
        "  def _add_bias_column(self, X):\n",
        "    n_samples, n_features = X.shape\n",
        "    bias = np.ones((n_samples, 1))\n",
        "    X = np.hstack((bias, X))\n",
        "    return X\n"
      ],
      "metadata": {
        "id": "t1cr7fjQWVNM"
      },
      "execution_count": null,
      "outputs": []
    },
    {
      "cell_type": "code",
      "source": [
        "ohe = OneHotEncoder(sparse=False)\n",
        "y_ohe = ohe.fit_transform(y[:, np.newaxis])"
      ],
      "metadata": {
        "id": "iNxyn_v9LrIy"
      },
      "execution_count": null,
      "outputs": []
    },
    {
      "cell_type": "code",
      "source": [
        "ss = StandardScaler()\n",
        "X_std = ss.fit_transform(X)"
      ],
      "metadata": {
        "id": "De9Xf7EkJLdI"
      },
      "execution_count": null,
      "outputs": []
    },
    {
      "cell_type": "code",
      "source": [
        "lr = MultinomialLogisticRegression()\n",
        "lr.fit(X_std, y_ohe)\n",
        "\n",
        "plt.figure(figsize=(6, 6))\n",
        "plot_decision_boundary(X, y, lr)\n",
        "plot_dataset(X, y)"
      ],
      "metadata": {
        "id": "LgfYCUFZNgjQ"
      },
      "execution_count": null,
      "outputs": []
    },
    {
      "cell_type": "code",
      "source": [
        "lr.coef_, lr.intercept_"
      ],
      "metadata": {
        "id": "hu__vFzRsLLH"
      },
      "execution_count": null,
      "outputs": []
    },
    {
      "cell_type": "markdown",
      "source": [
        "Non-linear logistic classification"
      ],
      "metadata": {
        "id": "FWUTVhZ1Z_jp"
      }
    },
    {
      "cell_type": "code",
      "source": [
        "X, y = make_circles(n_samples=200, noise=0.08, \n",
        "                    factor=0.3, random_state=random_seed)"
      ],
      "metadata": {
        "id": "1QsFBdSX2Kyb"
      },
      "execution_count": null,
      "outputs": []
    },
    {
      "cell_type": "code",
      "source": [
        "plt.figure(figsize=(6, 6))\n",
        "plot_dataset(X, y)"
      ],
      "metadata": {
        "id": "GMecBzsp2K0_"
      },
      "execution_count": null,
      "outputs": []
    },
    {
      "cell_type": "code",
      "source": [
        "ss = StandardScaler()\n",
        "X_std = ss.fit_transform(X)"
      ],
      "metadata": {
        "id": "NkYjV3FA2K3m"
      },
      "execution_count": null,
      "outputs": []
    },
    {
      "cell_type": "code",
      "source": [
        "lr = LogisticRegression()\n",
        "lr.fit(X_std, y)\n",
        "\n",
        "fig, (ax1, ax2) = plt.subplots(nrows=1, ncols=2, sharex=True, sharey=True, figsize=(10, 5))\n",
        "plot_decision_boundary(X, y, lr, ax1)\n",
        "plot_dataset(X, y, ax1)\n",
        "plot_contours(X, y, lr, ax2)\n",
        "plot_dataset(X, y, ax2)\n",
        "plt.tight_layout()"
      ],
      "metadata": {
        "id": "axPX72_E2K57"
      },
      "execution_count": null,
      "outputs": []
    },
    {
      "cell_type": "code",
      "source": [
        "pf = PolynomialFeatures(degree=2, include_bias=False)\n",
        "X_poly = pf.fit_transform(X)"
      ],
      "metadata": {
        "id": "aJYbdTgs2K8z"
      },
      "execution_count": null,
      "outputs": []
    },
    {
      "cell_type": "code",
      "source": [
        "X_poly_std = ss.fit_transform(X_poly)"
      ],
      "metadata": {
        "id": "tnwFkezv2K_q"
      },
      "execution_count": null,
      "outputs": []
    },
    {
      "cell_type": "code",
      "source": [
        "lr = LogisticRegression()\n",
        "lr.fit(X_poly_std, y)\n",
        "\n",
        "fig, (ax1, ax2) = plt.subplots(nrows=1, ncols=2, sharex=True, sharey=True, figsize=(10, 5))\n",
        "plot_decision_boundary(X, y, lr, ax1, transforms=[pf, ss])\n",
        "plot_dataset(X, y, ax1)\n",
        "plot_contours(X, y, lr, ax2, transforms=[pf, ss])\n",
        "plot_dataset(X, y, ax2)\n",
        "plt.tight_layout()"
      ],
      "metadata": {
        "id": "MDQ-El_P2LPj"
      },
      "execution_count": null,
      "outputs": []
    },
    {
      "cell_type": "code",
      "source": [
        "plt.figure(figsize=(6, 4))\n",
        "plot_parameters(lr)"
      ],
      "metadata": {
        "id": "e5G5qcbD2LR7"
      },
      "execution_count": null,
      "outputs": []
    },
    {
      "cell_type": "markdown",
      "source": [
        "Regularized logistic regression"
      ],
      "metadata": {
        "id": "6TXzLSjMaTyr"
      }
    },
    {
      "cell_type": "code",
      "source": [
        "from sklearn.linear_model import LogisticRegression"
      ],
      "metadata": {
        "id": "5BSC4BuwkGyP"
      },
      "execution_count": null,
      "outputs": []
    },
    {
      "cell_type": "code",
      "source": [
        "X_train, y_train = make_moons(n_samples=30, noise=0.15, random_state=random_seed)\n",
        "X_test, y_test = make_moons(n_samples=30, noise=0.15, random_state=random_seed+1)"
      ],
      "metadata": {
        "id": "gVOyrFJsVrLU"
      },
      "execution_count": null,
      "outputs": []
    },
    {
      "cell_type": "code",
      "source": [
        "plt.figure(figsize=(6, 6))\n",
        "plot_dataset(X_train, y_train)\n",
        "plot_dataset(X_test, y_test, marker='^')"
      ],
      "metadata": {
        "id": "eoqDYAvQTgGA"
      },
      "execution_count": null,
      "outputs": []
    },
    {
      "cell_type": "code",
      "source": [
        "# @title { run: \"auto\" }\n",
        "# @markdown Select a regularization type:\n",
        "penalty = \"l1\"  # @param ['l2', 'l1', 'none']\n",
        "\n",
        "solver = 'liblinear' if penalty == 'l1' else 'lbfgs'\n",
        "\n",
        "pf = PolynomialFeatures(degree=6, include_bias=False)\n",
        "X_train_poly = pf.fit_transform(X_train)\n",
        "\n",
        "ss = StandardScaler()\n",
        "X_train_poly_std = ss.fit_transform(X_train_poly)\n",
        "\n",
        "lr = LogisticRegression(penalty=penalty, solver=solver)\n",
        "lr.fit(X_train_poly_std, y_train)\n",
        "\n",
        "fig, (ax1, ax2) = plt.subplots(nrows=1, ncols=2, figsize=(12, 6))\n",
        "plot_decision_boundary(X_test, y_test, lr, ax=ax1, transforms=[pf, ss])\n",
        "plot_dataset(X_test, y_test, ax=ax1, marker='^')\n",
        "plot_parameters(lr, ax=ax2)\n",
        "plt.tight_layout()\n"
      ],
      "metadata": {
        "id": "4LNmwG1yhqWL",
        "cellView": "form"
      },
      "execution_count": null,
      "outputs": []
    },
    {
      "cell_type": "markdown",
      "source": [
        "ROC/AUC"
      ],
      "metadata": {
        "id": "RgAS01xaiQpH"
      }
    },
    {
      "cell_type": "code",
      "source": [
        "X, y = make_moons(n_samples=200, noise=0.08, random_state=random_seed)"
      ],
      "metadata": {
        "id": "OtGoSmbAi7Qu"
      },
      "execution_count": null,
      "outputs": []
    },
    {
      "cell_type": "code",
      "source": [
        "plt.figure(figsize=(6, 6))\n",
        "plot_dataset(X, y)"
      ],
      "metadata": {
        "id": "68qJZlddi7Qv"
      },
      "execution_count": null,
      "outputs": []
    },
    {
      "cell_type": "code",
      "source": [
        "# @title { run: \"auto\" }\n",
        "threshold = 0.8 # @param {type: \"slider\", min: 0, max: 1, step: 0.01}\n",
        "\n",
        "pf = PolynomialFeatures(degree=15, include_bias=False)\n",
        "X_poly = pf.fit_transform(X)\n",
        "\n",
        "ss = StandardScaler()\n",
        "X_poly_std = ss.fit_transform(X_poly)\n",
        "\n",
        "lr = LogisticRegression(max_iter=10_000)\n",
        "lr.fit(X_poly_std, y)\n",
        "\n",
        "x1 = np.linspace(X[:, 0].min() - 0.5, X[:, 0].max() + 0.5, 100)\n",
        "x2 = np.linspace(X[:, 1].min() - 0.5, X[:, 1].max() + 0.5, 100)\n",
        "x1, x2 = np.meshgrid(x1, x2)\n",
        "X_line = np.stack((x1, x2)).T\n",
        "X_line = X_line.reshape(-1, 2)\n",
        "X_line_poly = pf.transform(X_line)\n",
        "X_line_poly_std = ss.transform(X_line_poly)\n",
        "\n",
        "probs = lr.predict_proba(X_line_poly_std)[:, 1]\n",
        "y_pred = np.where(probs > threshold, 1, 0)\n",
        "\n",
        "probs = probs.reshape(100, 100)\n",
        "y_pred = y_pred.reshape(100, 100)\n",
        "\n",
        "fig, (ax1, ax2) = plt.subplots(nrows=1, ncols=2, sharex=True, \n",
        "                               sharey=True, figsize=(10, 5))\n",
        "ax1.contourf(x1, x2, y_pred.T, cmap='coolwarm', levels=40)\n",
        "ax2.contourf(x1, x2, probs.T, cmap='coolwarm', levels=40)\n",
        "sns.scatterplot(x=X[:, 0], y=X[:, 1], c=y, s=150, linewidth=1, edgecolor='k', ax=ax1)\n",
        "sns.scatterplot(x=X[:, 0], y=X[:, 1], c=y, s=150, linewidth=1, edgecolor='k', ax=ax2)\n",
        "plt.tight_layout()\n"
      ],
      "metadata": {
        "id": "V-jM70BTi7Qv",
        "cellView": "form"
      },
      "execution_count": null,
      "outputs": []
    },
    {
      "cell_type": "code",
      "source": [
        "X, y = make_moons(n_samples=200, noise=0.15, random_state=random_seed)"
      ],
      "metadata": {
        "id": "ZA8fG269VSPx"
      },
      "execution_count": null,
      "outputs": []
    },
    {
      "cell_type": "code",
      "source": [
        "plt.figure(figsize=(6, 6))\n",
        "plot_dataset(X, y)"
      ],
      "metadata": {
        "id": "OMDtGjZGVnH9"
      },
      "execution_count": null,
      "outputs": []
    },
    {
      "cell_type": "code",
      "source": [
        "lr = LogisticRegression()\n",
        "lr.fit(X, y)"
      ],
      "metadata": {
        "id": "GozRwhdIWRSJ"
      },
      "execution_count": null,
      "outputs": []
    },
    {
      "cell_type": "code",
      "source": [
        "plt.figure(figsize=(6, 6))\n",
        "plot_decision_boundary(X, y, lr)\n",
        "plot_dataset(X, y)"
      ],
      "metadata": {
        "id": "GTIA4TfLVvpQ"
      },
      "execution_count": null,
      "outputs": []
    },
    {
      "cell_type": "code",
      "source": [
        "y_pred = lr.predict_proba(X)"
      ],
      "metadata": {
        "id": "TTKu_uJ--4bj"
      },
      "execution_count": null,
      "outputs": []
    },
    {
      "cell_type": "code",
      "source": [
        "fpr, tpr, thr = metrics.roc_curve(y, y_pred[:, 1])\n",
        "auc = metrics.auc(fpr, tpr)"
      ],
      "metadata": {
        "id": "mR9FiSIlWDTW"
      },
      "execution_count": null,
      "outputs": []
    },
    {
      "cell_type": "code",
      "source": [
        "plt.figure(figsize=(8, 6))\n",
        "plt.plot(fpr, tpr, color=\"darkorange\", lw=2, label=\"ROC curve (area = %0.2f\" % (auc))\n",
        "plt.plot([0, 1], [0, 1], color='navy', lw=2, linestyle=\"--\")\n",
        "plt.xlabel(\"False Positive Rate\", size=14)\n",
        "plt.ylabel(\"True Positive Rate\", size=14)\n",
        "plt.title(\"Receiver operating characteristic\", size=18)\n",
        "plt.legend(loc=\"lower right\")\n",
        "plt.show()"
      ],
      "metadata": {
        "id": "xRWRryb_raUv"
      },
      "execution_count": null,
      "outputs": []
    },
    {
      "cell_type": "markdown",
      "source": [
        "Classification metrics"
      ],
      "metadata": {
        "id": "B-Aez2BpNAZb"
      }
    },
    {
      "cell_type": "code",
      "source": [
        "X_train, y_train = make_moons(n_samples=50, noise=0.3, random_state=random_seed)\n",
        "X_test, y_test = make_moons(n_samples=50, noise=0.3, random_state=random_seed+1)"
      ],
      "metadata": {
        "id": "Zjkk3cc1PhlK"
      },
      "execution_count": null,
      "outputs": []
    },
    {
      "cell_type": "code",
      "source": [
        "plt.figure(figsize=(6, 6))\n",
        "plot_dataset(X_test, y_test, marker='^')"
      ],
      "metadata": {
        "id": "dRCBX2JdTWMa"
      },
      "execution_count": null,
      "outputs": []
    },
    {
      "cell_type": "code",
      "source": [
        "lr = LogisticRegression()\n",
        "lr.fit(X_train, y_train)\n",
        "\n",
        "y_pred = lr.predict(X_test)"
      ],
      "metadata": {
        "id": "_KVypVIcNTBB"
      },
      "execution_count": null,
      "outputs": []
    },
    {
      "cell_type": "code",
      "source": [
        "plt.figure(figsize=(6, 6))\n",
        "plot_decision_boundary(X_test, y_test, lr)\n",
        "plot_dataset(X_test, y_test, marker='^')"
      ],
      "metadata": {
        "id": "XgIQdzMISkFo"
      },
      "execution_count": null,
      "outputs": []
    },
    {
      "cell_type": "code",
      "source": [
        "plt.figure(figsize=(8, 6))\n",
        "cm = metrics.confusion_matrix(y_test, y_pred)\n",
        "hm = sns.heatmap(cm, annot=True, cmap='Blues')\n",
        "hm.set_xlabel(\"Predicted class\", fontsize=14)\n",
        "hm.set_ylabel(\"True class\", fontsize=14)\n",
        "hm.set_title('Confusion matrix', size=20)\n",
        "plt.show()"
      ],
      "metadata": {
        "id": "n-B91g_ulguZ"
      },
      "execution_count": null,
      "outputs": []
    },
    {
      "cell_type": "markdown",
      "source": [
        "#### $accuracy = \\frac {TP + TN} {TP + TN + FP + FN}$"
      ],
      "metadata": {
        "id": "fbWoEqG8ND5_"
      }
    },
    {
      "cell_type": "code",
      "source": [
        "accuracy = metrics.accuracy_score(y_test, y_pred)"
      ],
      "metadata": {
        "id": "VMFOymXyfaeu"
      },
      "execution_count": null,
      "outputs": []
    },
    {
      "cell_type": "code",
      "source": [
        "print(\"Accuracy score: %.2f\" % (accuracy))"
      ],
      "metadata": {
        "id": "hyiaj_L9HjRO"
      },
      "execution_count": null,
      "outputs": []
    },
    {
      "cell_type": "markdown",
      "source": [
        "#### $precision = \\frac {TP} {TP + FP}$"
      ],
      "metadata": {
        "id": "NL2lQ3czNGwO"
      }
    },
    {
      "cell_type": "code",
      "source": [
        "precision = metrics.precision_score(y_test, y_pred)"
      ],
      "metadata": {
        "id": "pLV0FUmSHjTr"
      },
      "execution_count": null,
      "outputs": []
    },
    {
      "cell_type": "code",
      "source": [
        "print(\"Precision score: %.2f\" % (precision))"
      ],
      "metadata": {
        "id": "7a6l18J_HjWO"
      },
      "execution_count": null,
      "outputs": []
    },
    {
      "cell_type": "markdown",
      "source": [
        "#### $recall = \\frac {TP} {TP + FN}$"
      ],
      "metadata": {
        "id": "x0G_Ges2NJtD"
      }
    },
    {
      "cell_type": "code",
      "source": [
        "recall = metrics.recall_score(y_test, y_pred)"
      ],
      "metadata": {
        "id": "3m54LsMXHjZu"
      },
      "execution_count": null,
      "outputs": []
    },
    {
      "cell_type": "code",
      "source": [
        "print(\"Recall score: %.2f\" % (recall))"
      ],
      "metadata": {
        "id": "TNLHsbFDHjcQ"
      },
      "execution_count": null,
      "outputs": []
    },
    {
      "cell_type": "markdown",
      "source": [
        "#### $F1 = 2 \\cdot \\frac {precision \\cdot recall} {precision + recall}$"
      ],
      "metadata": {
        "id": "jXfsqh8ANL9r"
      }
    },
    {
      "cell_type": "code",
      "source": [
        "f1 = metrics.f1_score(y_test, y_pred)"
      ],
      "metadata": {
        "id": "VU8nnolwHjiv"
      },
      "execution_count": null,
      "outputs": []
    },
    {
      "cell_type": "code",
      "source": [
        "print(\"F1 score: %.2f\" % (f1))"
      ],
      "metadata": {
        "id": "lMNCrZ3QNNkE"
      },
      "execution_count": null,
      "outputs": []
    },
    {
      "cell_type": "code",
      "source": [],
      "metadata": {
        "id": "ttBbN0fJbwt_"
      },
      "execution_count": null,
      "outputs": []
    }
  ]
}